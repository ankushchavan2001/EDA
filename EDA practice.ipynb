{
 "cells": [
  {
   "cell_type": "code",
   "execution_count": 1,
   "id": "69270c3f-e0e8-425f-b904-d057a6c36c05",
   "metadata": {},
   "outputs": [],
   "source": [
    "import pandas as pd\n",
    "import numpy as np\n",
    "import matplotlib.pyplot as plt\n",
    "import seaborn as sns\n",
    "import scipy.stats as stat\n",
    "import warnings\n",
    "warnings.filterwarnings('ignore')"
   ]
  },
  {
   "cell_type": "code",
   "execution_count": 2,
   "id": "dee997f8-699e-42c7-8d55-9e83c6e3f9e8",
   "metadata": {},
   "outputs": [],
   "source": [
    "data1 = pd.read_csv(r'C:\\Users\\ANKUSH\\Desktop\\AI ML\\ML\\Datasets\\quikr_car.csv')"
   ]
  },
  {
   "cell_type": "code",
   "execution_count": 3,
   "id": "7d5ee121-03fe-4fb7-9af0-ab73a2a49f15",
   "metadata": {},
   "outputs": [],
   "source": [
    "df = data1.copy()"
   ]
  },
  {
   "cell_type": "code",
   "execution_count": 4,
   "id": "d32452c4-6d26-438a-a417-3f34b2c96e1d",
   "metadata": {},
   "outputs": [
    {
     "data": {
      "text/html": [
       "<div>\n",
       "<style scoped>\n",
       "    .dataframe tbody tr th:only-of-type {\n",
       "        vertical-align: middle;\n",
       "    }\n",
       "\n",
       "    .dataframe tbody tr th {\n",
       "        vertical-align: top;\n",
       "    }\n",
       "\n",
       "    .dataframe thead th {\n",
       "        text-align: right;\n",
       "    }\n",
       "</style>\n",
       "<table border=\"1\" class=\"dataframe\">\n",
       "  <thead>\n",
       "    <tr style=\"text-align: right;\">\n",
       "      <th></th>\n",
       "      <th>name</th>\n",
       "      <th>company</th>\n",
       "      <th>year</th>\n",
       "      <th>Price</th>\n",
       "      <th>kms_driven</th>\n",
       "      <th>fuel_type</th>\n",
       "    </tr>\n",
       "  </thead>\n",
       "  <tbody>\n",
       "    <tr>\n",
       "      <th>0</th>\n",
       "      <td>Hyundai Santro Xing XO eRLX Euro III</td>\n",
       "      <td>Hyundai</td>\n",
       "      <td>2007</td>\n",
       "      <td>80,000</td>\n",
       "      <td>45,000 kms</td>\n",
       "      <td>Petrol</td>\n",
       "    </tr>\n",
       "    <tr>\n",
       "      <th>1</th>\n",
       "      <td>Mahindra Jeep CL550 MDI</td>\n",
       "      <td>Mahindra</td>\n",
       "      <td>2006</td>\n",
       "      <td>4,25,000</td>\n",
       "      <td>40 kms</td>\n",
       "      <td>Diesel</td>\n",
       "    </tr>\n",
       "    <tr>\n",
       "      <th>2</th>\n",
       "      <td>Maruti Suzuki Alto 800 Vxi</td>\n",
       "      <td>Maruti</td>\n",
       "      <td>2018</td>\n",
       "      <td>Ask For Price</td>\n",
       "      <td>22,000 kms</td>\n",
       "      <td>Petrol</td>\n",
       "    </tr>\n",
       "    <tr>\n",
       "      <th>3</th>\n",
       "      <td>Hyundai Grand i10 Magna 1.2 Kappa VTVT</td>\n",
       "      <td>Hyundai</td>\n",
       "      <td>2014</td>\n",
       "      <td>3,25,000</td>\n",
       "      <td>28,000 kms</td>\n",
       "      <td>Petrol</td>\n",
       "    </tr>\n",
       "    <tr>\n",
       "      <th>4</th>\n",
       "      <td>Ford EcoSport Titanium 1.5L TDCi</td>\n",
       "      <td>Ford</td>\n",
       "      <td>2014</td>\n",
       "      <td>5,75,000</td>\n",
       "      <td>36,000 kms</td>\n",
       "      <td>Diesel</td>\n",
       "    </tr>\n",
       "    <tr>\n",
       "      <th>5</th>\n",
       "      <td>Ford EcoSport Titanium 1.5L TDCi</td>\n",
       "      <td>Ford</td>\n",
       "      <td>2015</td>\n",
       "      <td>Ask For Price</td>\n",
       "      <td>59,000 kms</td>\n",
       "      <td>Diesel</td>\n",
       "    </tr>\n",
       "    <tr>\n",
       "      <th>6</th>\n",
       "      <td>Ford Figo</td>\n",
       "      <td>Ford</td>\n",
       "      <td>2012</td>\n",
       "      <td>1,75,000</td>\n",
       "      <td>41,000 kms</td>\n",
       "      <td>Diesel</td>\n",
       "    </tr>\n",
       "    <tr>\n",
       "      <th>7</th>\n",
       "      <td>Hyundai Eon</td>\n",
       "      <td>Hyundai</td>\n",
       "      <td>2013</td>\n",
       "      <td>1,90,000</td>\n",
       "      <td>25,000 kms</td>\n",
       "      <td>Petrol</td>\n",
       "    </tr>\n",
       "    <tr>\n",
       "      <th>8</th>\n",
       "      <td>Ford EcoSport Ambiente 1.5L TDCi</td>\n",
       "      <td>Ford</td>\n",
       "      <td>2016</td>\n",
       "      <td>8,30,000</td>\n",
       "      <td>24,530 kms</td>\n",
       "      <td>Diesel</td>\n",
       "    </tr>\n",
       "    <tr>\n",
       "      <th>9</th>\n",
       "      <td>Maruti Suzuki Alto K10 VXi AMT</td>\n",
       "      <td>Maruti</td>\n",
       "      <td>2015</td>\n",
       "      <td>2,50,000</td>\n",
       "      <td>60,000 kms</td>\n",
       "      <td>Petrol</td>\n",
       "    </tr>\n",
       "  </tbody>\n",
       "</table>\n",
       "</div>"
      ],
      "text/plain": [
       "                                     name   company  year          Price  \\\n",
       "0    Hyundai Santro Xing XO eRLX Euro III   Hyundai  2007         80,000   \n",
       "1                 Mahindra Jeep CL550 MDI  Mahindra  2006       4,25,000   \n",
       "2              Maruti Suzuki Alto 800 Vxi    Maruti  2018  Ask For Price   \n",
       "3  Hyundai Grand i10 Magna 1.2 Kappa VTVT   Hyundai  2014       3,25,000   \n",
       "4        Ford EcoSport Titanium 1.5L TDCi      Ford  2014       5,75,000   \n",
       "5        Ford EcoSport Titanium 1.5L TDCi      Ford  2015  Ask For Price   \n",
       "6                               Ford Figo      Ford  2012       1,75,000   \n",
       "7                             Hyundai Eon   Hyundai  2013       1,90,000   \n",
       "8        Ford EcoSport Ambiente 1.5L TDCi      Ford  2016       8,30,000   \n",
       "9          Maruti Suzuki Alto K10 VXi AMT    Maruti  2015       2,50,000   \n",
       "\n",
       "   kms_driven fuel_type  \n",
       "0  45,000 kms    Petrol  \n",
       "1      40 kms    Diesel  \n",
       "2  22,000 kms    Petrol  \n",
       "3  28,000 kms    Petrol  \n",
       "4  36,000 kms    Diesel  \n",
       "5  59,000 kms    Diesel  \n",
       "6  41,000 kms    Diesel  \n",
       "7  25,000 kms    Petrol  \n",
       "8  24,530 kms    Diesel  \n",
       "9  60,000 kms    Petrol  "
      ]
     },
     "execution_count": 4,
     "metadata": {},
     "output_type": "execute_result"
    }
   ],
   "source": [
    "df.head(10)"
   ]
  },
  {
   "cell_type": "code",
   "execution_count": 5,
   "id": "da4e6ab8-12e4-4a0d-9f71-e559e55cb1b5",
   "metadata": {},
   "outputs": [
    {
     "data": {
      "text/plain": [
       "(892, 6)"
      ]
     },
     "execution_count": 5,
     "metadata": {},
     "output_type": "execute_result"
    }
   ],
   "source": [
    "df.shape"
   ]
  },
  {
   "cell_type": "code",
   "execution_count": 6,
   "id": "5d971de0-28da-4b49-856d-b0e30117d583",
   "metadata": {},
   "outputs": [
    {
     "name": "stdout",
     "output_type": "stream",
     "text": [
      "<class 'pandas.core.frame.DataFrame'>\n",
      "RangeIndex: 892 entries, 0 to 891\n",
      "Data columns (total 6 columns):\n",
      " #   Column      Non-Null Count  Dtype \n",
      "---  ------      --------------  ----- \n",
      " 0   name        892 non-null    object\n",
      " 1   company     892 non-null    object\n",
      " 2   year        892 non-null    object\n",
      " 3   Price       892 non-null    object\n",
      " 4   kms_driven  840 non-null    object\n",
      " 5   fuel_type   837 non-null    object\n",
      "dtypes: object(6)\n",
      "memory usage: 41.9+ KB\n"
     ]
    }
   ],
   "source": [
    "df.info()"
   ]
  },
  {
   "cell_type": "code",
   "execution_count": 7,
   "id": "5d867614-15ab-4b0a-b642-95c91d065c72",
   "metadata": {},
   "outputs": [
    {
     "data": {
      "text/html": [
       "<div>\n",
       "<style scoped>\n",
       "    .dataframe tbody tr th:only-of-type {\n",
       "        vertical-align: middle;\n",
       "    }\n",
       "\n",
       "    .dataframe tbody tr th {\n",
       "        vertical-align: top;\n",
       "    }\n",
       "\n",
       "    .dataframe thead th {\n",
       "        text-align: right;\n",
       "    }\n",
       "</style>\n",
       "<table border=\"1\" class=\"dataframe\">\n",
       "  <thead>\n",
       "    <tr style=\"text-align: right;\">\n",
       "      <th></th>\n",
       "      <th>name</th>\n",
       "      <th>company</th>\n",
       "      <th>year</th>\n",
       "      <th>Price</th>\n",
       "      <th>kms_driven</th>\n",
       "      <th>fuel_type</th>\n",
       "    </tr>\n",
       "  </thead>\n",
       "  <tbody>\n",
       "    <tr>\n",
       "      <th>count</th>\n",
       "      <td>892</td>\n",
       "      <td>892</td>\n",
       "      <td>892</td>\n",
       "      <td>892</td>\n",
       "      <td>840</td>\n",
       "      <td>837</td>\n",
       "    </tr>\n",
       "    <tr>\n",
       "      <th>unique</th>\n",
       "      <td>525</td>\n",
       "      <td>48</td>\n",
       "      <td>61</td>\n",
       "      <td>274</td>\n",
       "      <td>258</td>\n",
       "      <td>3</td>\n",
       "    </tr>\n",
       "    <tr>\n",
       "      <th>top</th>\n",
       "      <td>Honda City</td>\n",
       "      <td>Maruti</td>\n",
       "      <td>2015</td>\n",
       "      <td>Ask For Price</td>\n",
       "      <td>45,000 kms</td>\n",
       "      <td>Petrol</td>\n",
       "    </tr>\n",
       "    <tr>\n",
       "      <th>freq</th>\n",
       "      <td>13</td>\n",
       "      <td>235</td>\n",
       "      <td>117</td>\n",
       "      <td>35</td>\n",
       "      <td>30</td>\n",
       "      <td>440</td>\n",
       "    </tr>\n",
       "  </tbody>\n",
       "</table>\n",
       "</div>"
      ],
      "text/plain": [
       "              name company  year          Price  kms_driven fuel_type\n",
       "count          892     892   892            892         840       837\n",
       "unique         525      48    61            274         258         3\n",
       "top     Honda City  Maruti  2015  Ask For Price  45,000 kms    Petrol\n",
       "freq            13     235   117             35          30       440"
      ]
     },
     "execution_count": 7,
     "metadata": {},
     "output_type": "execute_result"
    }
   ],
   "source": [
    "df.describe()"
   ]
  },
  {
   "cell_type": "code",
   "execution_count": 8,
   "id": "8f774be6-bd4e-4a75-bdd8-a91f5ff37bde",
   "metadata": {},
   "outputs": [],
   "source": [
    "df['fuel_type'] = df['fuel_type'].fillna(df['fuel_type'].mode()[0])"
   ]
  },
  {
   "cell_type": "code",
   "execution_count": 9,
   "id": "10e55585-98d9-4c00-a830-490455441223",
   "metadata": {},
   "outputs": [
    {
     "name": "stdout",
     "output_type": "stream",
     "text": [
      "<class 'pandas.core.frame.DataFrame'>\n",
      "RangeIndex: 892 entries, 0 to 891\n",
      "Data columns (total 6 columns):\n",
      " #   Column      Non-Null Count  Dtype \n",
      "---  ------      --------------  ----- \n",
      " 0   name        892 non-null    object\n",
      " 1   company     892 non-null    object\n",
      " 2   year        892 non-null    object\n",
      " 3   Price       892 non-null    object\n",
      " 4   kms_driven  840 non-null    object\n",
      " 5   fuel_type   892 non-null    object\n",
      "dtypes: object(6)\n",
      "memory usage: 41.9+ KB\n"
     ]
    }
   ],
   "source": [
    "df.info()"
   ]
  },
  {
   "cell_type": "code",
   "execution_count": 10,
   "id": "f814ce77-f01a-4512-a0b9-21dd352284a1",
   "metadata": {},
   "outputs": [],
   "source": [
    "df['kms_driven'] = df['kms_driven'].str.replace('kms','')"
   ]
  },
  {
   "cell_type": "code",
   "execution_count": 11,
   "id": "2cceda94-3cd5-40a8-9947-235127cd4e4a",
   "metadata": {},
   "outputs": [
    {
     "data": {
      "text/html": [
       "<div>\n",
       "<style scoped>\n",
       "    .dataframe tbody tr th:only-of-type {\n",
       "        vertical-align: middle;\n",
       "    }\n",
       "\n",
       "    .dataframe tbody tr th {\n",
       "        vertical-align: top;\n",
       "    }\n",
       "\n",
       "    .dataframe thead th {\n",
       "        text-align: right;\n",
       "    }\n",
       "</style>\n",
       "<table border=\"1\" class=\"dataframe\">\n",
       "  <thead>\n",
       "    <tr style=\"text-align: right;\">\n",
       "      <th></th>\n",
       "      <th>name</th>\n",
       "      <th>company</th>\n",
       "      <th>year</th>\n",
       "      <th>Price</th>\n",
       "      <th>kms_driven</th>\n",
       "      <th>fuel_type</th>\n",
       "    </tr>\n",
       "  </thead>\n",
       "  <tbody>\n",
       "    <tr>\n",
       "      <th>543</th>\n",
       "      <td>Maruti Suzuki Baleno Sigma 1.2</td>\n",
       "      <td>Maruti</td>\n",
       "      <td>2016</td>\n",
       "      <td>4,25,000</td>\n",
       "      <td>40,000</td>\n",
       "      <td>Petrol</td>\n",
       "    </tr>\n",
       "    <tr>\n",
       "      <th>147</th>\n",
       "      <td>Renault Duster</td>\n",
       "      <td>Renault</td>\n",
       "      <td>2014</td>\n",
       "      <td>4,49,999</td>\n",
       "      <td>50,000</td>\n",
       "      <td>Diesel</td>\n",
       "    </tr>\n",
       "    <tr>\n",
       "      <th>752</th>\n",
       "      <td>Maruti Suzuki Ertiga VDi</td>\n",
       "      <td>Maruti</td>\n",
       "      <td>2012</td>\n",
       "      <td>5,00,000</td>\n",
       "      <td>48,000</td>\n",
       "      <td>Diesel</td>\n",
       "    </tr>\n",
       "    <tr>\n",
       "      <th>0</th>\n",
       "      <td>Hyundai Santro Xing XO eRLX Euro III</td>\n",
       "      <td>Hyundai</td>\n",
       "      <td>2007</td>\n",
       "      <td>80,000</td>\n",
       "      <td>45,000</td>\n",
       "      <td>Petrol</td>\n",
       "    </tr>\n",
       "    <tr>\n",
       "      <th>261</th>\n",
       "      <td>Maruti Suzuki Eeco 5 STR WITH AC HTR</td>\n",
       "      <td>Maruti</td>\n",
       "      <td>2015</td>\n",
       "      <td>2,51,111</td>\n",
       "      <td>55,000</td>\n",
       "      <td>Petrol</td>\n",
       "    </tr>\n",
       "  </tbody>\n",
       "</table>\n",
       "</div>"
      ],
      "text/plain": [
       "                                     name  company  year     Price kms_driven  \\\n",
       "543        Maruti Suzuki Baleno Sigma 1.2   Maruti  2016  4,25,000    40,000    \n",
       "147                        Renault Duster  Renault  2014  4,49,999    50,000    \n",
       "752              Maruti Suzuki Ertiga VDi   Maruti  2012  5,00,000    48,000    \n",
       "0    Hyundai Santro Xing XO eRLX Euro III  Hyundai  2007    80,000    45,000    \n",
       "261  Maruti Suzuki Eeco 5 STR WITH AC HTR   Maruti  2015  2,51,111    55,000    \n",
       "\n",
       "    fuel_type  \n",
       "543    Petrol  \n",
       "147    Diesel  \n",
       "752    Diesel  \n",
       "0      Petrol  \n",
       "261    Petrol  "
      ]
     },
     "execution_count": 11,
     "metadata": {},
     "output_type": "execute_result"
    }
   ],
   "source": [
    "df.sample(5)"
   ]
  },
  {
   "cell_type": "code",
   "execution_count": 12,
   "id": "46cedd31-1f23-4756-b5c8-5dabcf04ad0c",
   "metadata": {},
   "outputs": [
    {
     "data": {
      "text/plain": [
       "count         840\n",
       "unique        258\n",
       "top       45,000 \n",
       "freq           30\n",
       "Name: kms_driven, dtype: object"
      ]
     },
     "execution_count": 12,
     "metadata": {},
     "output_type": "execute_result"
    }
   ],
   "source": [
    "df['kms_driven'].describe()"
   ]
  },
  {
   "cell_type": "code",
   "execution_count": 13,
   "id": "2cc8add5-36ea-4fe8-93a1-3981d08f3fbe",
   "metadata": {},
   "outputs": [
    {
     "data": {
      "text/plain": [
       "array(['45,000 ', '40 ', '22,000 ', '28,000 ', '36,000 ', '59,000 ',\n",
       "       '41,000 ', '25,000 ', '24,530 ', '60,000 ', '30,000 ', '32,000 ',\n",
       "       '48,660 ', '4,000 ', '16,934 ', '43,000 ', '35,550 ', '39,522 ',\n",
       "       '39,000 ', '55,000 ', '72,000 ', '15,975 ', '70,000 ', '23,452 ',\n",
       "       '35,522 ', '48,508 ', '15,487 ', '82,000 ', '20,000 ', '68,000 ',\n",
       "       '38,000 ', '27,000 ', '33,000 ', '46,000 ', '16,000 ', '47,000 ',\n",
       "       '35,000 ', '30,874 ', '15,000 ', '29,685 ', '1,30,000 ', '19,000 ',\n",
       "       nan, '54,000 ', '13,000 ', '38,200 ', '50,000 ', '13,500 ',\n",
       "       '3,600 ', '45,863 ', '60,500 ', '12,500 ', '18,000 ', '13,349 ',\n",
       "       '29,000 ', '44,000 ', '42,000 ', '14,000 ', '49,000 ', '36,200 ',\n",
       "       '51,000 ', '1,04,000 ', '33,333 ', '33,600 ', '5,600 ', '7,500 ',\n",
       "       '26,000 ', '24,330 ', '65,480 ', '28,028 ', '2,00,000 ', '99,000 ',\n",
       "       '2,800 ', '21,000 ', '11,000 ', '66,000 ', '3,000 ', '7,000 ',\n",
       "       '38,500 ', '37,200 ', '43,200 ', '24,800 ', '45,872 ', '40,000 ',\n",
       "       '11,400 ', '97,200 ', '52,000 ', '31,000 ', '1,75,430 ', '37,000 ',\n",
       "       '65,000 ', '3,350 ', '75,000 ', '62,000 ', '73,000 ', '2,200 ',\n",
       "       '54,870 ', '34,580 ', '97,000 ', '60 ', '80,200 ', '3,200 ',\n",
       "       '0,000 ', '5,000 ', '588 ', '71,200 ', '1,75,400 ', '9,300 ',\n",
       "       '56,758 ', '10,000 ', '56,450 ', '56,000 ', '32,700 ', '9,000 ',\n",
       "       '73 ', '1,60,000 ', '84,000 ', '58,559 ', '57,000 ', '1,70,000 ',\n",
       "       '80,000 ', '6,821 ', '23,000 ', '34,000 ', '1,800 ', '4,00,000 ',\n",
       "       '48,000 ', '90,000 ', '12,000 ', '69,900 ', '1,66,000 ', '122 ',\n",
       "       '0 ', '24,000 ', '36,469 ', '7,800 ', '24,695 ', '15,141 ',\n",
       "       '59,910 ', '1,00,000 ', '4,500 ', '1,29,000 ', '300 ', '1,31,000 ',\n",
       "       '1,11,111 ', '59,466 ', '25,500 ', '44,005 ', '2,110 ', '43,222 ',\n",
       "       '1,00,200 ', '65 ', '1,40,000 ', '1,03,553 ', '58,000 ',\n",
       "       '1,20,000 ', '49,800 ', '100 ', '81,876 ', '6,020 ', '55,700 ',\n",
       "       '18,500 ', '1,80,000 ', '53,000 ', '35,500 ', '22,134 ', '1,000 ',\n",
       "       '8,500 ', '87,000 ', '6,000 ', '15,574 ', '8,000 ', '55,800 ',\n",
       "       '56,400 ', '72,160 ', '11,500 ', '1,33,000 ', '2,000 ', '88,000 ',\n",
       "       '65,422 ', '1,17,000 ', '1,50,000 ', '10,750 ', '6,800 ', '5 ',\n",
       "       '9,800 ', '57,923 ', '30,201 ', '6,200 ', '37,518 ', '24,652 ',\n",
       "       '383 ', '95,000 ', '3,528 ', '52,500 ', '47,900 ', '52,800 ',\n",
       "       '1,95,000 ', '48,008 ', '48,247 ', '9,400 ', '64,000 ', '2,137 ',\n",
       "       '10,544 ', '49,500 ', '1,47,000 ', '90,001 ', '48,006 ', '74,000 ',\n",
       "       '85,000 ', '29,500 ', '39,700 ', '67,000 ', '19,336 ', '60,105 ',\n",
       "       '45,933 ', '1,02,563 ', '28,600 ', '41,800 ', '1,16,000 ',\n",
       "       '42,590 ', '7,400 ', '54,500 ', '76,000 ', '00 ', '11,523 ',\n",
       "       '38,600 ', '95,500 ', '37,458 ', '85,960 ', '12,516 ', '30,600 ',\n",
       "       '2,550 ', '62,500 ', '69,000 ', '28,400 ', '68,485 ', '3,500 ',\n",
       "       '85,455 ', '63,000 ', '1,600 ', '77,000 ', '26,500 ', '2,875 ',\n",
       "       '13,900 ', '1,500 ', '2,450 ', '1,625 ', '33,400 ', '60,123 ',\n",
       "       '38,900 ', '1,37,495 ', '91,200 ', '1,46,000 ', '1,00,800 ',\n",
       "       '2,100 ', '2,500 ', '1,32,000 ', 'Petrol'], dtype=object)"
      ]
     },
     "execution_count": 13,
     "metadata": {},
     "output_type": "execute_result"
    }
   ],
   "source": [
    "df['kms_driven'].unique()"
   ]
  },
  {
   "cell_type": "code",
   "execution_count": 14,
   "id": "a14ad4ee-e1c9-49d1-af22-495cd1457e33",
   "metadata": {},
   "outputs": [],
   "source": [
    "df = df[df['kms_driven']!= 'Petrol']"
   ]
  },
  {
   "cell_type": "code",
   "execution_count": 15,
   "id": "71893b60-f515-4562-9041-a58d592e82d0",
   "metadata": {},
   "outputs": [],
   "source": [
    "df['kms_driven'] = df['kms_driven'].str.replace(',','')"
   ]
  },
  {
   "cell_type": "code",
   "execution_count": 16,
   "id": "50306b37-0c19-4d3a-9b99-51d2aa4b5895",
   "metadata": {},
   "outputs": [
    {
     "data": {
      "text/html": [
       "<div>\n",
       "<style scoped>\n",
       "    .dataframe tbody tr th:only-of-type {\n",
       "        vertical-align: middle;\n",
       "    }\n",
       "\n",
       "    .dataframe tbody tr th {\n",
       "        vertical-align: top;\n",
       "    }\n",
       "\n",
       "    .dataframe thead th {\n",
       "        text-align: right;\n",
       "    }\n",
       "</style>\n",
       "<table border=\"1\" class=\"dataframe\">\n",
       "  <thead>\n",
       "    <tr style=\"text-align: right;\">\n",
       "      <th></th>\n",
       "      <th>name</th>\n",
       "      <th>company</th>\n",
       "      <th>year</th>\n",
       "      <th>Price</th>\n",
       "      <th>kms_driven</th>\n",
       "      <th>fuel_type</th>\n",
       "    </tr>\n",
       "  </thead>\n",
       "  <tbody>\n",
       "    <tr>\n",
       "      <th>274</th>\n",
       "      <td>Maruti Suzuki Dzire ZXI</td>\n",
       "      <td>Maruti</td>\n",
       "      <td>2013</td>\n",
       "      <td>3,80,000</td>\n",
       "      <td>30000</td>\n",
       "      <td>Petrol</td>\n",
       "    </tr>\n",
       "    <tr>\n",
       "      <th>798</th>\n",
       "      <td>7 SEATER MAHINDRA BOLERO IN VERY GOOD</td>\n",
       "      <td>7</td>\n",
       "      <td>D...</td>\n",
       "      <td>Ask For Price</td>\n",
       "      <td>NaN</td>\n",
       "      <td>Petrol</td>\n",
       "    </tr>\n",
       "    <tr>\n",
       "      <th>487</th>\n",
       "      <td>Maruti Suzuki Ertiga Vxi</td>\n",
       "      <td>Maruti</td>\n",
       "      <td>2015</td>\n",
       "      <td>5,50,000</td>\n",
       "      <td>75000</td>\n",
       "      <td>Petrol</td>\n",
       "    </tr>\n",
       "  </tbody>\n",
       "</table>\n",
       "</div>"
      ],
      "text/plain": [
       "                                      name company  year          Price  \\\n",
       "274                Maruti Suzuki Dzire ZXI  Maruti  2013       3,80,000   \n",
       "798  7 SEATER MAHINDRA BOLERO IN VERY GOOD       7  D...  Ask For Price   \n",
       "487               Maruti Suzuki Ertiga Vxi  Maruti  2015       5,50,000   \n",
       "\n",
       "    kms_driven fuel_type  \n",
       "274     30000     Petrol  \n",
       "798        NaN    Petrol  \n",
       "487     75000     Petrol  "
      ]
     },
     "execution_count": 16,
     "metadata": {},
     "output_type": "execute_result"
    }
   ],
   "source": [
    "df.sample(3)"
   ]
  },
  {
   "cell_type": "code",
   "execution_count": 17,
   "id": "c5706215-eadc-4cbb-82c0-18915c654af8",
   "metadata": {},
   "outputs": [],
   "source": [
    "df['kms_driven'] = df['kms_driven'].fillna(df['kms_driven'].median())"
   ]
  },
  {
   "cell_type": "code",
   "execution_count": 18,
   "id": "f86dcbd7-6fd9-4797-b8b4-26fb17944e99",
   "metadata": {},
   "outputs": [
    {
     "name": "stdout",
     "output_type": "stream",
     "text": [
      "<class 'pandas.core.frame.DataFrame'>\n",
      "Index: 890 entries, 0 to 889\n",
      "Data columns (total 6 columns):\n",
      " #   Column      Non-Null Count  Dtype \n",
      "---  ------      --------------  ----- \n",
      " 0   name        890 non-null    object\n",
      " 1   company     890 non-null    object\n",
      " 2   year        890 non-null    object\n",
      " 3   Price       890 non-null    object\n",
      " 4   kms_driven  890 non-null    object\n",
      " 5   fuel_type   890 non-null    object\n",
      "dtypes: object(6)\n",
      "memory usage: 48.7+ KB\n"
     ]
    }
   ],
   "source": [
    "df.info()"
   ]
  },
  {
   "cell_type": "code",
   "execution_count": 19,
   "id": "f4c7dbc6-81d6-4293-a5d2-7c076c0ff6ca",
   "metadata": {},
   "outputs": [],
   "source": [
    "df['kms_driven'] = df['kms_driven'].astype('int')"
   ]
  },
  {
   "cell_type": "code",
   "execution_count": 20,
   "id": "f565c3c3-474b-452e-ae5d-acd921b42027",
   "metadata": {},
   "outputs": [],
   "source": [
    "df['Price'] = df['Price'].str.replace(',','')"
   ]
  },
  {
   "cell_type": "code",
   "execution_count": 21,
   "id": "99ddbc87-5eed-43fa-b2b3-4d70d920bb66",
   "metadata": {},
   "outputs": [
    {
     "data": {
      "text/plain": [
       "array(['80000', '425000', 'Ask For Price', '325000', '575000', '175000',\n",
       "       '190000', '830000', '250000', '182000', '315000', '415000',\n",
       "       '320000', '1000000', '500000', '350000', '160000', '310000',\n",
       "       '75000', '100000', '290000', '95000', '180000', '385000', '105000',\n",
       "       '650000', '689999', '448000', '549000', '501000', '489999',\n",
       "       '280000', '349999', '284999', '345000', '499999', '235000',\n",
       "       '249999', '1475000', '395000', '220000', '170000', '85000',\n",
       "       '200000', '570000', '110000', '448999', '1891111', '159500',\n",
       "       '344999', '449999', '865000', '699000', '375000', '224999',\n",
       "       '1200000', '195000', '351000', '240000', '90000', '155000',\n",
       "       '600000', '189500', '210000', '390000', '135000', '1600000',\n",
       "       '701000', '265000', '525000', '372000', '635000', '550000',\n",
       "       '485000', '329500', '251111', '569999', '69999', '299999',\n",
       "       '399999', '450000', '270000', '158400', '179000', '125000',\n",
       "       '299000', '150000', '275000', '285000', '340000', '70000',\n",
       "       '289999', '849999', '749999', '274999', '984999', '599999',\n",
       "       '244999', '474999', '245000', '169500', '370000', '168000',\n",
       "       '145000', '98500', '209000', '185000', '900000', '699999',\n",
       "       '199999', '544999', '199000', '540000', '49000', '700000', '55000',\n",
       "       '895000', '355000', '565000', '365000', '40000', '400000',\n",
       "       '330000', '580000', '379000', '219000', '519000', '730000',\n",
       "       '2000000', '2100000', '1400000', '311000', '855000', '535000',\n",
       "       '178000', '300000', '255000', '549999', '380000', '57000',\n",
       "       '410000', '225000', '120000', '59000', '599000', '675000', '72500',\n",
       "       '610000', '230000', '520000', '524999', '424999', '644999',\n",
       "       '584999', '799999', '444999', '649999', '944999', '574999',\n",
       "       '374999', '130000', '401000', '1350000', '174999', '239999',\n",
       "       '99999', '324999', '1074999', '1130000', '149000', '770000',\n",
       "       '30000', '335000', '399000', '65000', '169999', '165000', '560000',\n",
       "       '950000', '715000', '45000', '940000', '155555', '1500000',\n",
       "       '495000', '800000', '1299000', '530000', '1499000', '32000',\n",
       "       '405000', '760000', '750000', '419000', '140000', '1540000',\n",
       "       '123000', '498000', '480000', '488000', '1525000', '548900',\n",
       "       '725000', '99000', '52000', '2800000', '499000', '381000',\n",
       "       '278000', '690000', '260000', '90001', '115000', '1599000',\n",
       "       '159000', '51999', '215000', '35000', '1150000', '269000', '60000',\n",
       "       '430000', '8500003', '401919', '490000', '424000', '205000',\n",
       "       '549900', '371500', '435000', '189700', '389700', '360000',\n",
       "       '295000', '114990', '1065000', '470000', '48000', '188000',\n",
       "       '465000', '179999', '2190000', '2390000', '1075000', '475000',\n",
       "       '1025000', '615000', '1900000', '1490000', '1510000', '1850000',\n",
       "       '790000', '1725000', '1225000', '68000', '970000', '3100000',\n",
       "       '899000', '88000', '53000', '568500', '71000', '590000', '795000',\n",
       "       '42000', '189000', '162000', '35999', '2900000', '39999', '50500',\n",
       "       '510000', '860000', '500001'], dtype=object)"
      ]
     },
     "execution_count": 21,
     "metadata": {},
     "output_type": "execute_result"
    }
   ],
   "source": [
    "df['Price'].unique()"
   ]
  },
  {
   "cell_type": "code",
   "execution_count": 22,
   "id": "d2cfe005-e030-4057-ba19-0313c7af06d0",
   "metadata": {},
   "outputs": [],
   "source": [
    "df = df[df['Price']!= 'Ask For Price']"
   ]
  },
  {
   "cell_type": "code",
   "execution_count": 23,
   "id": "6b123735-acf9-4b16-b55e-f314f26469c6",
   "metadata": {},
   "outputs": [
    {
     "name": "stdout",
     "output_type": "stream",
     "text": [
      "<class 'pandas.core.frame.DataFrame'>\n",
      "Index: 855 entries, 0 to 889\n",
      "Data columns (total 6 columns):\n",
      " #   Column      Non-Null Count  Dtype \n",
      "---  ------      --------------  ----- \n",
      " 0   name        855 non-null    object\n",
      " 1   company     855 non-null    object\n",
      " 2   year        855 non-null    object\n",
      " 3   Price       855 non-null    object\n",
      " 4   kms_driven  855 non-null    int32 \n",
      " 5   fuel_type   855 non-null    object\n",
      "dtypes: int32(1), object(5)\n",
      "memory usage: 43.4+ KB\n"
     ]
    }
   ],
   "source": [
    "df.info()"
   ]
  },
  {
   "cell_type": "code",
   "execution_count": 24,
   "id": "db662165-1c31-4f62-93d4-9327293073e2",
   "metadata": {},
   "outputs": [],
   "source": [
    "df['Price'] = df['Price'].astype('int')"
   ]
  },
  {
   "cell_type": "code",
   "execution_count": 25,
   "id": "ace01510-b884-4075-95d7-4a884c47402a",
   "metadata": {},
   "outputs": [
    {
     "data": {
      "text/plain": [
       "array(['2007', '2006', '2014', '2012', '2013', '2016', '2015', '2010',\n",
       "       '2017', '2008', '2018', '2011', '2019', '2009', '2005', '2000',\n",
       "       '150k', 'TOUR', '2003', 'r 15', '2004', 'sale', '1995', 'ara)',\n",
       "       '2002', 'SELL', '2001', 'tion', 'odel', '2 bs', 'arry', 'o...',\n",
       "       'Zest', 'ture', 'emi', 'car', 'able', 'd...', 'SALE', 'sell',\n",
       "       'd Ex', 'n...', 'e...', 'go .', 'k...', 'o c4', 'zire', 'Sumo',\n",
       "       'cab', 'EV2', 'r...', 'zest'], dtype=object)"
      ]
     },
     "execution_count": 25,
     "metadata": {},
     "output_type": "execute_result"
    }
   ],
   "source": [
    "df['year'].unique()"
   ]
  },
  {
   "cell_type": "code",
   "execution_count": 26,
   "id": "f994187b-84b8-4fa4-be70-1f7d43e74aa2",
   "metadata": {},
   "outputs": [],
   "source": [
    "df.drop('year',axis=1,inplace = True)"
   ]
  },
  {
   "cell_type": "code",
   "execution_count": 27,
   "id": "37eb0f39-02ba-4ff4-a147-ca49f5fc613a",
   "metadata": {},
   "outputs": [
    {
     "data": {
      "text/html": [
       "<div>\n",
       "<style scoped>\n",
       "    .dataframe tbody tr th:only-of-type {\n",
       "        vertical-align: middle;\n",
       "    }\n",
       "\n",
       "    .dataframe tbody tr th {\n",
       "        vertical-align: top;\n",
       "    }\n",
       "\n",
       "    .dataframe thead th {\n",
       "        text-align: right;\n",
       "    }\n",
       "</style>\n",
       "<table border=\"1\" class=\"dataframe\">\n",
       "  <thead>\n",
       "    <tr style=\"text-align: right;\">\n",
       "      <th></th>\n",
       "      <th>name</th>\n",
       "      <th>company</th>\n",
       "      <th>Price</th>\n",
       "      <th>kms_driven</th>\n",
       "      <th>fuel_type</th>\n",
       "    </tr>\n",
       "  </thead>\n",
       "  <tbody>\n",
       "    <tr>\n",
       "      <th>111</th>\n",
       "      <td>Honda Amaze 1.2 S i VTEC</td>\n",
       "      <td>Honda</td>\n",
       "      <td>325000</td>\n",
       "      <td>42000</td>\n",
       "      <td>Petrol</td>\n",
       "    </tr>\n",
       "    <tr>\n",
       "      <th>420</th>\n",
       "      <td>Renault Duster 85 PS RxL Explore LE</td>\n",
       "      <td>Renault</td>\n",
       "      <td>715000</td>\n",
       "      <td>65000</td>\n",
       "      <td>Diesel</td>\n",
       "    </tr>\n",
       "    <tr>\n",
       "      <th>557</th>\n",
       "      <td>Tata Nano</td>\n",
       "      <td>Tata</td>\n",
       "      <td>60000</td>\n",
       "      <td>6800</td>\n",
       "      <td>Petrol</td>\n",
       "    </tr>\n",
       "  </tbody>\n",
       "</table>\n",
       "</div>"
      ],
      "text/plain": [
       "                                    name  company   Price  kms_driven  \\\n",
       "111             Honda Amaze 1.2 S i VTEC    Honda  325000       42000   \n",
       "420  Renault Duster 85 PS RxL Explore LE  Renault  715000       65000   \n",
       "557                            Tata Nano     Tata   60000        6800   \n",
       "\n",
       "    fuel_type  \n",
       "111    Petrol  \n",
       "420    Diesel  \n",
       "557    Petrol  "
      ]
     },
     "execution_count": 27,
     "metadata": {},
     "output_type": "execute_result"
    }
   ],
   "source": [
    "df.sample(3)"
   ]
  },
  {
   "cell_type": "code",
   "execution_count": 28,
   "id": "f58af0ea-998a-4f14-bd17-266df6eed3cf",
   "metadata": {},
   "outputs": [
    {
     "data": {
      "text/plain": [
       "array(['Hyundai', 'Mahindra', 'Ford', 'Maruti', 'Skoda', 'Audi', 'Toyota',\n",
       "       'Renault', 'Honda', 'Datsun', 'Mitsubishi', 'Tata', 'Volkswagen',\n",
       "       'Chevrolet', 'Mini', 'BMW', 'Nissan', 'Hindustan', 'Fiat',\n",
       "       'MARUTI', 'Force', 'Mercedes', 'Land', 'Yamaha', 'URJENT', 'Swift',\n",
       "       'Used', 'Jaguar', 'Jeep', 'Commercial', 'tata', 'Sale', 'very',\n",
       "       'Volvo', 'I', 'i', '2012', 'Well', 'all', 'scratch', 'urgent',\n",
       "       'sell', 'TATA', 'Any', 'Tara'], dtype=object)"
      ]
     },
     "execution_count": 28,
     "metadata": {},
     "output_type": "execute_result"
    }
   ],
   "source": [
    "df['company'].unique()"
   ]
  },
  {
   "cell_type": "code",
   "execution_count": 29,
   "id": "3f7de736-7a06-4cba-9d21-1c5389deb510",
   "metadata": {},
   "outputs": [
    {
     "data": {
      "text/plain": [
       "company\n",
       "Maruti        227\n",
       "Hyundai       139\n",
       "Mahindra       99\n",
       "Tata           70\n",
       "Honda          60\n",
       "Toyota         37\n",
       "Chevrolet      34\n",
       "Renault        33\n",
       "Ford           30\n",
       "Volkswagen     19\n",
       "Skoda          13\n",
       "Audi           11\n",
       "Mini            8\n",
       "BMW             8\n",
       "Datsun          7\n",
       "Nissan          6\n",
       "Mitsubishi      6\n",
       "Mercedes        6\n",
       "Fiat            4\n",
       "Force           4\n",
       "Commercial      3\n",
       "Hindustan       3\n",
       "MARUTI          2\n",
       "Used            2\n",
       "Jaguar          2\n",
       "urgent          2\n",
       "tata            2\n",
       "Any             1\n",
       "TATA            1\n",
       "sell            1\n",
       "i               1\n",
       "scratch         1\n",
       "all             1\n",
       "Well            1\n",
       "2012            1\n",
       "Land            1\n",
       "I               1\n",
       "Volvo           1\n",
       "very            1\n",
       "Sale            1\n",
       "Jeep            1\n",
       "Swift           1\n",
       "URJENT          1\n",
       "Yamaha          1\n",
       "Tara            1\n",
       "Name: count, dtype: int64"
      ]
     },
     "execution_count": 29,
     "metadata": {},
     "output_type": "execute_result"
    }
   ],
   "source": [
    "df['company'].value_counts()"
   ]
  },
  {
   "cell_type": "code",
   "execution_count": 30,
   "id": "93c7919d-0e62-47b8-91ed-bf356d23d357",
   "metadata": {},
   "outputs": [
    {
     "data": {
      "text/plain": [
       "name\n",
       "Honda City                                 13\n",
       "Honda Amaze                                11\n",
       "Maruti Suzuki Dzire                        10\n",
       "Mahindra Scorpio S10                        9\n",
       "Maruti Suzuki Swift Dzire VXi 1.2 BS IV     7\n",
       "                                           ..\n",
       "Swift Dzire Tour 27 Dec 2016 Regis          1\n",
       "Mahindra Scorpio W Turbo 2.6DX 9 Seater     1\n",
       "Honda Jazz S MT                             1\n",
       "Hyundai Sonata Transform 2.4 GDi MT         1\n",
       "Tata Zest XM Diesel                         1\n",
       "Name: count, Length: 501, dtype: int64"
      ]
     },
     "execution_count": 30,
     "metadata": {},
     "output_type": "execute_result"
    }
   ],
   "source": [
    "df['name'].value_counts()"
   ]
  },
  {
   "cell_type": "code",
   "execution_count": 31,
   "id": "86379739-93f5-4912-9740-914f50a18c19",
   "metadata": {},
   "outputs": [
    {
     "data": {
      "text/plain": [
       "fuel_type\n",
       "Petrol    467\n",
       "Diesel    386\n",
       "LPG         2\n",
       "Name: count, dtype: int64"
      ]
     },
     "execution_count": 31,
     "metadata": {},
     "output_type": "execute_result"
    }
   ],
   "source": [
    "df['fuel_type'].value_counts()"
   ]
  },
  {
   "cell_type": "code",
   "execution_count": 32,
   "id": "52777c76-8a81-430e-b2d1-29591c2f33eb",
   "metadata": {},
   "outputs": [
    {
     "data": {
      "text/html": [
       "<div>\n",
       "<style scoped>\n",
       "    .dataframe tbody tr th:only-of-type {\n",
       "        vertical-align: middle;\n",
       "    }\n",
       "\n",
       "    .dataframe tbody tr th {\n",
       "        vertical-align: top;\n",
       "    }\n",
       "\n",
       "    .dataframe thead th {\n",
       "        text-align: right;\n",
       "    }\n",
       "</style>\n",
       "<table border=\"1\" class=\"dataframe\">\n",
       "  <thead>\n",
       "    <tr style=\"text-align: right;\">\n",
       "      <th></th>\n",
       "      <th>LPG</th>\n",
       "      <th>Petrol</th>\n",
       "    </tr>\n",
       "  </thead>\n",
       "  <tbody>\n",
       "    <tr>\n",
       "      <th>0</th>\n",
       "      <td>0</td>\n",
       "      <td>1</td>\n",
       "    </tr>\n",
       "    <tr>\n",
       "      <th>1</th>\n",
       "      <td>0</td>\n",
       "      <td>0</td>\n",
       "    </tr>\n",
       "    <tr>\n",
       "      <th>3</th>\n",
       "      <td>0</td>\n",
       "      <td>1</td>\n",
       "    </tr>\n",
       "    <tr>\n",
       "      <th>4</th>\n",
       "      <td>0</td>\n",
       "      <td>0</td>\n",
       "    </tr>\n",
       "    <tr>\n",
       "      <th>6</th>\n",
       "      <td>0</td>\n",
       "      <td>0</td>\n",
       "    </tr>\n",
       "    <tr>\n",
       "      <th>...</th>\n",
       "      <td>...</td>\n",
       "      <td>...</td>\n",
       "    </tr>\n",
       "    <tr>\n",
       "      <th>885</th>\n",
       "      <td>0</td>\n",
       "      <td>0</td>\n",
       "    </tr>\n",
       "    <tr>\n",
       "      <th>886</th>\n",
       "      <td>0</td>\n",
       "      <td>1</td>\n",
       "    </tr>\n",
       "    <tr>\n",
       "      <th>887</th>\n",
       "      <td>0</td>\n",
       "      <td>1</td>\n",
       "    </tr>\n",
       "    <tr>\n",
       "      <th>888</th>\n",
       "      <td>0</td>\n",
       "      <td>0</td>\n",
       "    </tr>\n",
       "    <tr>\n",
       "      <th>889</th>\n",
       "      <td>0</td>\n",
       "      <td>0</td>\n",
       "    </tr>\n",
       "  </tbody>\n",
       "</table>\n",
       "<p>855 rows × 2 columns</p>\n",
       "</div>"
      ],
      "text/plain": [
       "     LPG  Petrol\n",
       "0      0       1\n",
       "1      0       0\n",
       "3      0       1\n",
       "4      0       0\n",
       "6      0       0\n",
       "..   ...     ...\n",
       "885    0       0\n",
       "886    0       1\n",
       "887    0       1\n",
       "888    0       0\n",
       "889    0       0\n",
       "\n",
       "[855 rows x 2 columns]"
      ]
     },
     "execution_count": 32,
     "metadata": {},
     "output_type": "execute_result"
    }
   ],
   "source": [
    "fuel = pd.get_dummies(df['fuel_type'],drop_first=True,dtype=int)\n",
    "fuel"
   ]
  },
  {
   "cell_type": "code",
   "execution_count": 33,
   "id": "ff134c49-fe60-47de-82f4-cb5f39f8a637",
   "metadata": {},
   "outputs": [
    {
     "data": {
      "text/html": [
       "<div>\n",
       "<style scoped>\n",
       "    .dataframe tbody tr th:only-of-type {\n",
       "        vertical-align: middle;\n",
       "    }\n",
       "\n",
       "    .dataframe tbody tr th {\n",
       "        vertical-align: top;\n",
       "    }\n",
       "\n",
       "    .dataframe thead th {\n",
       "        text-align: right;\n",
       "    }\n",
       "</style>\n",
       "<table border=\"1\" class=\"dataframe\">\n",
       "  <thead>\n",
       "    <tr style=\"text-align: right;\">\n",
       "      <th></th>\n",
       "      <th>name</th>\n",
       "      <th>company</th>\n",
       "      <th>Price</th>\n",
       "      <th>kms_driven</th>\n",
       "      <th>fuel_type</th>\n",
       "      <th>LPG</th>\n",
       "      <th>Petrol</th>\n",
       "    </tr>\n",
       "  </thead>\n",
       "  <tbody>\n",
       "    <tr>\n",
       "      <th>0</th>\n",
       "      <td>Hyundai Santro Xing XO eRLX Euro III</td>\n",
       "      <td>Hyundai</td>\n",
       "      <td>80000</td>\n",
       "      <td>45000</td>\n",
       "      <td>Petrol</td>\n",
       "      <td>0</td>\n",
       "      <td>1</td>\n",
       "    </tr>\n",
       "    <tr>\n",
       "      <th>1</th>\n",
       "      <td>Mahindra Jeep CL550 MDI</td>\n",
       "      <td>Mahindra</td>\n",
       "      <td>425000</td>\n",
       "      <td>40</td>\n",
       "      <td>Diesel</td>\n",
       "      <td>0</td>\n",
       "      <td>0</td>\n",
       "    </tr>\n",
       "    <tr>\n",
       "      <th>3</th>\n",
       "      <td>Hyundai Grand i10 Magna 1.2 Kappa VTVT</td>\n",
       "      <td>Hyundai</td>\n",
       "      <td>325000</td>\n",
       "      <td>28000</td>\n",
       "      <td>Petrol</td>\n",
       "      <td>0</td>\n",
       "      <td>1</td>\n",
       "    </tr>\n",
       "    <tr>\n",
       "      <th>4</th>\n",
       "      <td>Ford EcoSport Titanium 1.5L TDCi</td>\n",
       "      <td>Ford</td>\n",
       "      <td>575000</td>\n",
       "      <td>36000</td>\n",
       "      <td>Diesel</td>\n",
       "      <td>0</td>\n",
       "      <td>0</td>\n",
       "    </tr>\n",
       "    <tr>\n",
       "      <th>6</th>\n",
       "      <td>Ford Figo</td>\n",
       "      <td>Ford</td>\n",
       "      <td>175000</td>\n",
       "      <td>41000</td>\n",
       "      <td>Diesel</td>\n",
       "      <td>0</td>\n",
       "      <td>0</td>\n",
       "    </tr>\n",
       "  </tbody>\n",
       "</table>\n",
       "</div>"
      ],
      "text/plain": [
       "                                     name   company   Price  kms_driven  \\\n",
       "0    Hyundai Santro Xing XO eRLX Euro III   Hyundai   80000       45000   \n",
       "1                 Mahindra Jeep CL550 MDI  Mahindra  425000          40   \n",
       "3  Hyundai Grand i10 Magna 1.2 Kappa VTVT   Hyundai  325000       28000   \n",
       "4        Ford EcoSport Titanium 1.5L TDCi      Ford  575000       36000   \n",
       "6                               Ford Figo      Ford  175000       41000   \n",
       "\n",
       "  fuel_type  LPG  Petrol  \n",
       "0    Petrol    0       1  \n",
       "1    Diesel    0       0  \n",
       "3    Petrol    0       1  \n",
       "4    Diesel    0       0  \n",
       "6    Diesel    0       0  "
      ]
     },
     "execution_count": 33,
     "metadata": {},
     "output_type": "execute_result"
    }
   ],
   "source": [
    "df = pd.concat([df,fuel],axis=1)\n",
    "df.head()"
   ]
  },
  {
   "cell_type": "code",
   "execution_count": 34,
   "id": "3d93ab47-b23b-4301-a865-712442b3fca2",
   "metadata": {},
   "outputs": [],
   "source": [
    "df.drop('fuel_type',axis=1,inplace=True)"
   ]
  },
  {
   "cell_type": "code",
   "execution_count": 35,
   "id": "6763c8fb-56af-4f24-b9ed-69d38903defa",
   "metadata": {},
   "outputs": [
    {
     "data": {
      "text/html": [
       "<div>\n",
       "<style scoped>\n",
       "    .dataframe tbody tr th:only-of-type {\n",
       "        vertical-align: middle;\n",
       "    }\n",
       "\n",
       "    .dataframe tbody tr th {\n",
       "        vertical-align: top;\n",
       "    }\n",
       "\n",
       "    .dataframe thead th {\n",
       "        text-align: right;\n",
       "    }\n",
       "</style>\n",
       "<table border=\"1\" class=\"dataframe\">\n",
       "  <thead>\n",
       "    <tr style=\"text-align: right;\">\n",
       "      <th></th>\n",
       "      <th>name</th>\n",
       "      <th>company</th>\n",
       "      <th>Price</th>\n",
       "      <th>kms_driven</th>\n",
       "      <th>LPG</th>\n",
       "      <th>Petrol</th>\n",
       "    </tr>\n",
       "  </thead>\n",
       "  <tbody>\n",
       "    <tr>\n",
       "      <th>698</th>\n",
       "      <td>Mercedes Benz C Class C 220 CDI Avantgarde</td>\n",
       "      <td>Mercedes</td>\n",
       "      <td>1225000</td>\n",
       "      <td>76000</td>\n",
       "      <td>0</td>\n",
       "      <td>0</td>\n",
       "    </tr>\n",
       "    <tr>\n",
       "      <th>377</th>\n",
       "      <td>Hyundai i10 Magna 1.2</td>\n",
       "      <td>Hyundai</td>\n",
       "      <td>175000</td>\n",
       "      <td>45000</td>\n",
       "      <td>0</td>\n",
       "      <td>1</td>\n",
       "    </tr>\n",
       "    <tr>\n",
       "      <th>30</th>\n",
       "      <td>Maruti Suzuki Swift Dzire ZDi</td>\n",
       "      <td>Maruti</td>\n",
       "      <td>385000</td>\n",
       "      <td>35522</td>\n",
       "      <td>0</td>\n",
       "      <td>0</td>\n",
       "    </tr>\n",
       "  </tbody>\n",
       "</table>\n",
       "</div>"
      ],
      "text/plain": [
       "                                           name   company    Price  \\\n",
       "698  Mercedes Benz C Class C 220 CDI Avantgarde  Mercedes  1225000   \n",
       "377                       Hyundai i10 Magna 1.2   Hyundai   175000   \n",
       "30                Maruti Suzuki Swift Dzire ZDi    Maruti   385000   \n",
       "\n",
       "     kms_driven  LPG  Petrol  \n",
       "698       76000    0       0  \n",
       "377       45000    0       1  \n",
       "30        35522    0       0  "
      ]
     },
     "execution_count": 35,
     "metadata": {},
     "output_type": "execute_result"
    }
   ],
   "source": [
    "df.sample(3)"
   ]
  },
  {
   "cell_type": "code",
   "execution_count": 36,
   "id": "f02b70c5-791f-440b-ab3a-9b63b1caefa2",
   "metadata": {},
   "outputs": [
    {
     "data": {
      "text/html": [
       "<div>\n",
       "<style scoped>\n",
       "    .dataframe tbody tr th:only-of-type {\n",
       "        vertical-align: middle;\n",
       "    }\n",
       "\n",
       "    .dataframe tbody tr th {\n",
       "        vertical-align: top;\n",
       "    }\n",
       "\n",
       "    .dataframe thead th {\n",
       "        text-align: right;\n",
       "    }\n",
       "</style>\n",
       "<table border=\"1\" class=\"dataframe\">\n",
       "  <thead>\n",
       "    <tr style=\"text-align: right;\">\n",
       "      <th></th>\n",
       "      <th>name</th>\n",
       "      <th>company</th>\n",
       "      <th>Price</th>\n",
       "      <th>kms_driven</th>\n",
       "      <th>LPG</th>\n",
       "      <th>Petrol</th>\n",
       "    </tr>\n",
       "  </thead>\n",
       "  <tbody>\n",
       "    <tr>\n",
       "      <th>887</th>\n",
       "      <td>Ta</td>\n",
       "      <td>Tara</td>\n",
       "      <td>310000</td>\n",
       "      <td>41000</td>\n",
       "      <td>0</td>\n",
       "      <td>1</td>\n",
       "    </tr>\n",
       "    <tr>\n",
       "      <th>888</th>\n",
       "      <td>Tata Zest XM Diesel</td>\n",
       "      <td>Tata</td>\n",
       "      <td>260000</td>\n",
       "      <td>27000</td>\n",
       "      <td>0</td>\n",
       "      <td>0</td>\n",
       "    </tr>\n",
       "    <tr>\n",
       "      <th>889</th>\n",
       "      <td>Mahindra Quanto C8</td>\n",
       "      <td>Mahindra</td>\n",
       "      <td>390000</td>\n",
       "      <td>40000</td>\n",
       "      <td>0</td>\n",
       "      <td>0</td>\n",
       "    </tr>\n",
       "  </tbody>\n",
       "</table>\n",
       "</div>"
      ],
      "text/plain": [
       "                    name   company   Price  kms_driven  LPG  Petrol\n",
       "887                   Ta      Tara  310000       41000    0       1\n",
       "888  Tata Zest XM Diesel      Tata  260000       27000    0       0\n",
       "889   Mahindra Quanto C8  Mahindra  390000       40000    0       0"
      ]
     },
     "execution_count": 36,
     "metadata": {},
     "output_type": "execute_result"
    }
   ],
   "source": [
    "df.tail(3)"
   ]
  },
  {
   "cell_type": "code",
   "execution_count": 37,
   "id": "6a2e55ee-f084-4ab3-85eb-71c914e34c61",
   "metadata": {},
   "outputs": [],
   "source": [
    "df['company_name'] = df['name'].str.split(' ').str[0]"
   ]
  },
  {
   "cell_type": "code",
   "execution_count": 38,
   "id": "e0b7f791-8b6e-4dac-bad8-90a298d23d5b",
   "metadata": {},
   "outputs": [
    {
     "data": {
      "text/html": [
       "<div>\n",
       "<style scoped>\n",
       "    .dataframe tbody tr th:only-of-type {\n",
       "        vertical-align: middle;\n",
       "    }\n",
       "\n",
       "    .dataframe tbody tr th {\n",
       "        vertical-align: top;\n",
       "    }\n",
       "\n",
       "    .dataframe thead th {\n",
       "        text-align: right;\n",
       "    }\n",
       "</style>\n",
       "<table border=\"1\" class=\"dataframe\">\n",
       "  <thead>\n",
       "    <tr style=\"text-align: right;\">\n",
       "      <th></th>\n",
       "      <th>name</th>\n",
       "      <th>company</th>\n",
       "      <th>Price</th>\n",
       "      <th>kms_driven</th>\n",
       "      <th>LPG</th>\n",
       "      <th>Petrol</th>\n",
       "      <th>company_name</th>\n",
       "    </tr>\n",
       "  </thead>\n",
       "  <tbody>\n",
       "    <tr>\n",
       "      <th>546</th>\n",
       "      <td>Hyundai Getz Prime 1.3 GVS</td>\n",
       "      <td>Hyundai</td>\n",
       "      <td>110000</td>\n",
       "      <td>20000</td>\n",
       "      <td>0</td>\n",
       "      <td>1</td>\n",
       "      <td>Hyundai</td>\n",
       "    </tr>\n",
       "    <tr>\n",
       "      <th>729</th>\n",
       "      <td>Mahindra Xylo D2 BS IV</td>\n",
       "      <td>Mahindra</td>\n",
       "      <td>390000</td>\n",
       "      <td>48000</td>\n",
       "      <td>0</td>\n",
       "      <td>0</td>\n",
       "      <td>Mahindra</td>\n",
       "    </tr>\n",
       "    <tr>\n",
       "      <th>44</th>\n",
       "      <td>Honda Amaze</td>\n",
       "      <td>Honda</td>\n",
       "      <td>284999</td>\n",
       "      <td>46000</td>\n",
       "      <td>0</td>\n",
       "      <td>0</td>\n",
       "      <td>Honda</td>\n",
       "    </tr>\n",
       "  </tbody>\n",
       "</table>\n",
       "</div>"
      ],
      "text/plain": [
       "                           name   company   Price  kms_driven  LPG  Petrol  \\\n",
       "546  Hyundai Getz Prime 1.3 GVS   Hyundai  110000       20000    0       1   \n",
       "729      Mahindra Xylo D2 BS IV  Mahindra  390000       48000    0       0   \n",
       "44                  Honda Amaze     Honda  284999       46000    0       0   \n",
       "\n",
       "    company_name  \n",
       "546      Hyundai  \n",
       "729     Mahindra  \n",
       "44         Honda  "
      ]
     },
     "execution_count": 38,
     "metadata": {},
     "output_type": "execute_result"
    }
   ],
   "source": [
    "df.sample(3)"
   ]
  },
  {
   "cell_type": "code",
   "execution_count": 39,
   "id": "59f013ed-a4e7-48cf-8cc9-ab8c88a659e7",
   "metadata": {},
   "outputs": [
    {
     "data": {
      "text/plain": [
       "0       True\n",
       "1       True\n",
       "3       True\n",
       "4       True\n",
       "6       True\n",
       "       ...  \n",
       "885     True\n",
       "886     True\n",
       "887    False\n",
       "888     True\n",
       "889     True\n",
       "Name: name, Length: 855, dtype: bool"
      ]
     },
     "execution_count": 39,
     "metadata": {},
     "output_type": "execute_result"
    }
   ],
   "source": [
    "df['name']!= df['name'].str.split(' ').str[0]\n"
   ]
  },
  {
   "cell_type": "code",
   "execution_count": 40,
   "id": "12b70f52-8782-4c6f-a70e-6da811ce0893",
   "metadata": {},
   "outputs": [
    {
     "data": {
      "text/html": [
       "<div>\n",
       "<style scoped>\n",
       "    .dataframe tbody tr th:only-of-type {\n",
       "        vertical-align: middle;\n",
       "    }\n",
       "\n",
       "    .dataframe tbody tr th {\n",
       "        vertical-align: top;\n",
       "    }\n",
       "\n",
       "    .dataframe thead th {\n",
       "        text-align: right;\n",
       "    }\n",
       "</style>\n",
       "<table border=\"1\" class=\"dataframe\">\n",
       "  <thead>\n",
       "    <tr style=\"text-align: right;\">\n",
       "      <th></th>\n",
       "      <th>name</th>\n",
       "      <th>company</th>\n",
       "      <th>Price</th>\n",
       "      <th>kms_driven</th>\n",
       "      <th>LPG</th>\n",
       "      <th>Petrol</th>\n",
       "      <th>company_name</th>\n",
       "    </tr>\n",
       "  </thead>\n",
       "  <tbody>\n",
       "    <tr>\n",
       "      <th>0</th>\n",
       "      <td>Hyundai Santro Xing XO eRLX Euro III</td>\n",
       "      <td>Hyundai</td>\n",
       "      <td>80000</td>\n",
       "      <td>45000</td>\n",
       "      <td>0</td>\n",
       "      <td>1</td>\n",
       "      <td>Hyundai</td>\n",
       "    </tr>\n",
       "    <tr>\n",
       "      <th>1</th>\n",
       "      <td>Mahindra Jeep CL550 MDI</td>\n",
       "      <td>Mahindra</td>\n",
       "      <td>425000</td>\n",
       "      <td>40</td>\n",
       "      <td>0</td>\n",
       "      <td>0</td>\n",
       "      <td>Mahindra</td>\n",
       "    </tr>\n",
       "    <tr>\n",
       "      <th>3</th>\n",
       "      <td>Hyundai Grand i10 Magna 1.2 Kappa VTVT</td>\n",
       "      <td>Hyundai</td>\n",
       "      <td>325000</td>\n",
       "      <td>28000</td>\n",
       "      <td>0</td>\n",
       "      <td>1</td>\n",
       "      <td>Hyundai</td>\n",
       "    </tr>\n",
       "    <tr>\n",
       "      <th>4</th>\n",
       "      <td>Ford EcoSport Titanium 1.5L TDCi</td>\n",
       "      <td>Ford</td>\n",
       "      <td>575000</td>\n",
       "      <td>36000</td>\n",
       "      <td>0</td>\n",
       "      <td>0</td>\n",
       "      <td>Ford</td>\n",
       "    </tr>\n",
       "    <tr>\n",
       "      <th>6</th>\n",
       "      <td>Ford Figo</td>\n",
       "      <td>Ford</td>\n",
       "      <td>175000</td>\n",
       "      <td>41000</td>\n",
       "      <td>0</td>\n",
       "      <td>0</td>\n",
       "      <td>Ford</td>\n",
       "    </tr>\n",
       "  </tbody>\n",
       "</table>\n",
       "</div>"
      ],
      "text/plain": [
       "                                     name   company   Price  kms_driven  LPG  \\\n",
       "0    Hyundai Santro Xing XO eRLX Euro III   Hyundai   80000       45000    0   \n",
       "1                 Mahindra Jeep CL550 MDI  Mahindra  425000          40    0   \n",
       "3  Hyundai Grand i10 Magna 1.2 Kappa VTVT   Hyundai  325000       28000    0   \n",
       "4        Ford EcoSport Titanium 1.5L TDCi      Ford  575000       36000    0   \n",
       "6                               Ford Figo      Ford  175000       41000    0   \n",
       "\n",
       "   Petrol company_name  \n",
       "0       1      Hyundai  \n",
       "1       0     Mahindra  \n",
       "3       1      Hyundai  \n",
       "4       0         Ford  \n",
       "6       0         Ford  "
      ]
     },
     "execution_count": 40,
     "metadata": {},
     "output_type": "execute_result"
    }
   ],
   "source": [
    "df.head()"
   ]
  },
  {
   "cell_type": "code",
   "execution_count": 41,
   "id": "7cd38a1d-e86b-4582-8c7e-efb34f3fb657",
   "metadata": {},
   "outputs": [],
   "source": [
    "df.drop('company_name',axis=1,inplace=True)"
   ]
  },
  {
   "cell_type": "code",
   "execution_count": 42,
   "id": "218cd4fa-d115-497c-b691-f479d686ee96",
   "metadata": {},
   "outputs": [
    {
     "data": {
      "text/html": [
       "<div>\n",
       "<style scoped>\n",
       "    .dataframe tbody tr th:only-of-type {\n",
       "        vertical-align: middle;\n",
       "    }\n",
       "\n",
       "    .dataframe tbody tr th {\n",
       "        vertical-align: top;\n",
       "    }\n",
       "\n",
       "    .dataframe thead th {\n",
       "        text-align: right;\n",
       "    }\n",
       "</style>\n",
       "<table border=\"1\" class=\"dataframe\">\n",
       "  <thead>\n",
       "    <tr style=\"text-align: right;\">\n",
       "      <th></th>\n",
       "      <th>name</th>\n",
       "      <th>company</th>\n",
       "      <th>Price</th>\n",
       "      <th>kms_driven</th>\n",
       "      <th>LPG</th>\n",
       "      <th>Petrol</th>\n",
       "    </tr>\n",
       "  </thead>\n",
       "  <tbody>\n",
       "    <tr>\n",
       "      <th>62</th>\n",
       "      <td>Tata Indigo eCS LS CR4 BS IV</td>\n",
       "      <td>Tata</td>\n",
       "      <td>200000</td>\n",
       "      <td>130000</td>\n",
       "      <td>0</td>\n",
       "      <td>0</td>\n",
       "    </tr>\n",
       "  </tbody>\n",
       "</table>\n",
       "</div>"
      ],
      "text/plain": [
       "                            name company   Price  kms_driven  LPG  Petrol\n",
       "62  Tata Indigo eCS LS CR4 BS IV    Tata  200000      130000    0       0"
      ]
     },
     "execution_count": 42,
     "metadata": {},
     "output_type": "execute_result"
    }
   ],
   "source": [
    "df.sample()"
   ]
  },
  {
   "cell_type": "code",
   "execution_count": 43,
   "id": "6a5e768d-aa0b-427c-85a5-699ab32fbc82",
   "metadata": {},
   "outputs": [
    {
     "data": {
      "text/html": [
       "<div>\n",
       "<style scoped>\n",
       "    .dataframe tbody tr th:only-of-type {\n",
       "        vertical-align: middle;\n",
       "    }\n",
       "\n",
       "    .dataframe tbody tr th {\n",
       "        vertical-align: top;\n",
       "    }\n",
       "\n",
       "    .dataframe thead th {\n",
       "        text-align: right;\n",
       "    }\n",
       "</style>\n",
       "<table border=\"1\" class=\"dataframe\">\n",
       "  <thead>\n",
       "    <tr style=\"text-align: right;\">\n",
       "      <th></th>\n",
       "      <th>name</th>\n",
       "      <th>company</th>\n",
       "      <th>Price</th>\n",
       "      <th>kms_driven</th>\n",
       "      <th>LPG</th>\n",
       "      <th>Petrol</th>\n",
       "    </tr>\n",
       "  </thead>\n",
       "  <tbody>\n",
       "    <tr>\n",
       "      <th>792</th>\n",
       "      <td>2012 Tata Sumo Gold f</td>\n",
       "      <td>2012</td>\n",
       "      <td>250000</td>\n",
       "      <td>41000</td>\n",
       "      <td>0</td>\n",
       "      <td>1</td>\n",
       "    </tr>\n",
       "  </tbody>\n",
       "</table>\n",
       "</div>"
      ],
      "text/plain": [
       "                      name company   Price  kms_driven  LPG  Petrol\n",
       "792  2012 Tata Sumo Gold f    2012  250000       41000    0       1"
      ]
     },
     "execution_count": 43,
     "metadata": {},
     "output_type": "execute_result"
    }
   ],
   "source": [
    "df[df['company']=='2012']"
   ]
  },
  {
   "cell_type": "code",
   "execution_count": 44,
   "id": "c4a25a6e-5d2e-476a-b427-315ae6025dbf",
   "metadata": {},
   "outputs": [],
   "source": [
    "df = df[df['company']!= '2012']"
   ]
  },
  {
   "cell_type": "code",
   "execution_count": 45,
   "id": "40616ff9-263e-43c5-810d-13c2acc3b687",
   "metadata": {},
   "outputs": [
    {
     "data": {
      "text/html": [
       "<div>\n",
       "<style scoped>\n",
       "    .dataframe tbody tr th:only-of-type {\n",
       "        vertical-align: middle;\n",
       "    }\n",
       "\n",
       "    .dataframe tbody tr th {\n",
       "        vertical-align: top;\n",
       "    }\n",
       "\n",
       "    .dataframe thead th {\n",
       "        text-align: right;\n",
       "    }\n",
       "</style>\n",
       "<table border=\"1\" class=\"dataframe\">\n",
       "  <thead>\n",
       "    <tr style=\"text-align: right;\">\n",
       "      <th></th>\n",
       "      <th>name</th>\n",
       "      <th>company</th>\n",
       "      <th>Price</th>\n",
       "      <th>kms_driven</th>\n",
       "      <th>LPG</th>\n",
       "      <th>Petrol</th>\n",
       "    </tr>\n",
       "  </thead>\n",
       "  <tbody>\n",
       "  </tbody>\n",
       "</table>\n",
       "</div>"
      ],
      "text/plain": [
       "Empty DataFrame\n",
       "Columns: [name, company, Price, kms_driven, LPG, Petrol]\n",
       "Index: []"
      ]
     },
     "execution_count": 45,
     "metadata": {},
     "output_type": "execute_result"
    }
   ],
   "source": [
    "df[df['company']=='2012']"
   ]
  },
  {
   "cell_type": "code",
   "execution_count": 46,
   "id": "81b91029-d131-4aa3-a6e4-6cc7bf29858f",
   "metadata": {},
   "outputs": [
    {
     "data": {
      "text/html": [
       "<div>\n",
       "<style scoped>\n",
       "    .dataframe tbody tr th:only-of-type {\n",
       "        vertical-align: middle;\n",
       "    }\n",
       "\n",
       "    .dataframe tbody tr th {\n",
       "        vertical-align: top;\n",
       "    }\n",
       "\n",
       "    .dataframe thead th {\n",
       "        text-align: right;\n",
       "    }\n",
       "</style>\n",
       "<table border=\"1\" class=\"dataframe\">\n",
       "  <thead>\n",
       "    <tr style=\"text-align: right;\">\n",
       "      <th></th>\n",
       "      <th>name</th>\n",
       "      <th>company</th>\n",
       "      <th>Price</th>\n",
       "      <th>kms_driven</th>\n",
       "      <th>LPG</th>\n",
       "      <th>Petrol</th>\n",
       "    </tr>\n",
       "  </thead>\n",
       "  <tbody>\n",
       "    <tr>\n",
       "      <th>387</th>\n",
       "      <td>Toyota Innova 2.5 E MS 7 STR BS IV</td>\n",
       "      <td>Toyota</td>\n",
       "      <td>770000</td>\n",
       "      <td>0</td>\n",
       "      <td>0</td>\n",
       "      <td>0</td>\n",
       "    </tr>\n",
       "    <tr>\n",
       "      <th>152</th>\n",
       "      <td>Renault Duster</td>\n",
       "      <td>Renault</td>\n",
       "      <td>399999</td>\n",
       "      <td>41000</td>\n",
       "      <td>0</td>\n",
       "      <td>0</td>\n",
       "    </tr>\n",
       "    <tr>\n",
       "      <th>502</th>\n",
       "      <td>Honda Brio VX AT</td>\n",
       "      <td>Honda</td>\n",
       "      <td>450000</td>\n",
       "      <td>11000</td>\n",
       "      <td>0</td>\n",
       "      <td>1</td>\n",
       "    </tr>\n",
       "    <tr>\n",
       "      <th>791</th>\n",
       "      <td>Chevrolet Beat LS Diesel</td>\n",
       "      <td>Chevrolet</td>\n",
       "      <td>189000</td>\n",
       "      <td>31000</td>\n",
       "      <td>0</td>\n",
       "      <td>0</td>\n",
       "    </tr>\n",
       "  </tbody>\n",
       "</table>\n",
       "</div>"
      ],
      "text/plain": [
       "                                   name    company   Price  kms_driven  LPG  \\\n",
       "387  Toyota Innova 2.5 E MS 7 STR BS IV     Toyota  770000           0    0   \n",
       "152                      Renault Duster    Renault  399999       41000    0   \n",
       "502                    Honda Brio VX AT      Honda  450000       11000    0   \n",
       "791            Chevrolet Beat LS Diesel  Chevrolet  189000       31000    0   \n",
       "\n",
       "     Petrol  \n",
       "387       0  \n",
       "152       0  \n",
       "502       1  \n",
       "791       0  "
      ]
     },
     "execution_count": 46,
     "metadata": {},
     "output_type": "execute_result"
    }
   ],
   "source": [
    "df.sample(4)"
   ]
  },
  {
   "cell_type": "code",
   "execution_count": 47,
   "id": "728fd9fc-e4f1-4114-8a83-a80aaddc6394",
   "metadata": {},
   "outputs": [],
   "source": [
    "def remove_company(row):\n",
    "    name= row['name']\n",
    "    company = row['company']\n",
    "    if name.startswith(company):\n",
    "        return name[len(company):].strip()\n",
    "    else:\n",
    "        return name"
   ]
  },
  {
   "cell_type": "code",
   "execution_count": 48,
   "id": "e09d159b-1dbd-4348-990d-95a41ae000bd",
   "metadata": {},
   "outputs": [],
   "source": [
    "df['rename'] = df.apply(remove_company,axis=1)"
   ]
  },
  {
   "cell_type": "code",
   "execution_count": 49,
   "id": "772124f8-3a1a-4a9a-a7a5-d599f3bbd65c",
   "metadata": {},
   "outputs": [],
   "source": [
    "df.drop('name',axis=1,inplace=True)"
   ]
  },
  {
   "cell_type": "code",
   "execution_count": 50,
   "id": "6b8d2c9e-79c6-4722-8604-4863d51b10d0",
   "metadata": {},
   "outputs": [
    {
     "data": {
      "text/html": [
       "<div>\n",
       "<style scoped>\n",
       "    .dataframe tbody tr th:only-of-type {\n",
       "        vertical-align: middle;\n",
       "    }\n",
       "\n",
       "    .dataframe tbody tr th {\n",
       "        vertical-align: top;\n",
       "    }\n",
       "\n",
       "    .dataframe thead th {\n",
       "        text-align: right;\n",
       "    }\n",
       "</style>\n",
       "<table border=\"1\" class=\"dataframe\">\n",
       "  <thead>\n",
       "    <tr style=\"text-align: right;\">\n",
       "      <th></th>\n",
       "      <th>company</th>\n",
       "      <th>Price</th>\n",
       "      <th>kms_driven</th>\n",
       "      <th>LPG</th>\n",
       "      <th>Petrol</th>\n",
       "      <th>rename</th>\n",
       "    </tr>\n",
       "  </thead>\n",
       "  <tbody>\n",
       "    <tr>\n",
       "      <th>0</th>\n",
       "      <td>Hyundai</td>\n",
       "      <td>80000</td>\n",
       "      <td>45000</td>\n",
       "      <td>0</td>\n",
       "      <td>1</td>\n",
       "      <td>Santro Xing XO eRLX Euro III</td>\n",
       "    </tr>\n",
       "    <tr>\n",
       "      <th>1</th>\n",
       "      <td>Mahindra</td>\n",
       "      <td>425000</td>\n",
       "      <td>40</td>\n",
       "      <td>0</td>\n",
       "      <td>0</td>\n",
       "      <td>Jeep CL550 MDI</td>\n",
       "    </tr>\n",
       "    <tr>\n",
       "      <th>3</th>\n",
       "      <td>Hyundai</td>\n",
       "      <td>325000</td>\n",
       "      <td>28000</td>\n",
       "      <td>0</td>\n",
       "      <td>1</td>\n",
       "      <td>Grand i10 Magna 1.2 Kappa VTVT</td>\n",
       "    </tr>\n",
       "    <tr>\n",
       "      <th>4</th>\n",
       "      <td>Ford</td>\n",
       "      <td>575000</td>\n",
       "      <td>36000</td>\n",
       "      <td>0</td>\n",
       "      <td>0</td>\n",
       "      <td>EcoSport Titanium 1.5L TDCi</td>\n",
       "    </tr>\n",
       "    <tr>\n",
       "      <th>6</th>\n",
       "      <td>Ford</td>\n",
       "      <td>175000</td>\n",
       "      <td>41000</td>\n",
       "      <td>0</td>\n",
       "      <td>0</td>\n",
       "      <td>Figo</td>\n",
       "    </tr>\n",
       "  </tbody>\n",
       "</table>\n",
       "</div>"
      ],
      "text/plain": [
       "    company   Price  kms_driven  LPG  Petrol                          rename\n",
       "0   Hyundai   80000       45000    0       1    Santro Xing XO eRLX Euro III\n",
       "1  Mahindra  425000          40    0       0                  Jeep CL550 MDI\n",
       "3   Hyundai  325000       28000    0       1  Grand i10 Magna 1.2 Kappa VTVT\n",
       "4      Ford  575000       36000    0       0     EcoSport Titanium 1.5L TDCi\n",
       "6      Ford  175000       41000    0       0                            Figo"
      ]
     },
     "execution_count": 50,
     "metadata": {},
     "output_type": "execute_result"
    }
   ],
   "source": [
    "df.head()"
   ]
  },
  {
   "cell_type": "code",
   "execution_count": 51,
   "id": "9d1cd878-7c70-48cc-9724-ab5311c942b9",
   "metadata": {},
   "outputs": [
    {
     "data": {
      "text/html": [
       "<div>\n",
       "<style scoped>\n",
       "    .dataframe tbody tr th:only-of-type {\n",
       "        vertical-align: middle;\n",
       "    }\n",
       "\n",
       "    .dataframe tbody tr th {\n",
       "        vertical-align: top;\n",
       "    }\n",
       "\n",
       "    .dataframe thead th {\n",
       "        text-align: right;\n",
       "    }\n",
       "</style>\n",
       "<table border=\"1\" class=\"dataframe\">\n",
       "  <thead>\n",
       "    <tr style=\"text-align: right;\">\n",
       "      <th></th>\n",
       "      <th>company</th>\n",
       "      <th>Price</th>\n",
       "      <th>kms_driven</th>\n",
       "      <th>LPG</th>\n",
       "      <th>Petrol</th>\n",
       "      <th>rename</th>\n",
       "    </tr>\n",
       "  </thead>\n",
       "  <tbody>\n",
       "    <tr>\n",
       "      <th>0</th>\n",
       "      <td>Hyundai</td>\n",
       "      <td>80000</td>\n",
       "      <td>45000</td>\n",
       "      <td>0</td>\n",
       "      <td>1</td>\n",
       "      <td>Santro Xing XO eRLX Euro III</td>\n",
       "    </tr>\n",
       "    <tr>\n",
       "      <th>1</th>\n",
       "      <td>Mahindra</td>\n",
       "      <td>425000</td>\n",
       "      <td>40</td>\n",
       "      <td>0</td>\n",
       "      <td>0</td>\n",
       "      <td>Jeep CL550 MDI</td>\n",
       "    </tr>\n",
       "    <tr>\n",
       "      <th>3</th>\n",
       "      <td>Hyundai</td>\n",
       "      <td>325000</td>\n",
       "      <td>28000</td>\n",
       "      <td>0</td>\n",
       "      <td>1</td>\n",
       "      <td>Grand i10 Magna 1.2 Kappa VTVT</td>\n",
       "    </tr>\n",
       "    <tr>\n",
       "      <th>4</th>\n",
       "      <td>Ford</td>\n",
       "      <td>575000</td>\n",
       "      <td>36000</td>\n",
       "      <td>0</td>\n",
       "      <td>0</td>\n",
       "      <td>EcoSport Titanium 1.5L TDCi</td>\n",
       "    </tr>\n",
       "    <tr>\n",
       "      <th>6</th>\n",
       "      <td>Ford</td>\n",
       "      <td>175000</td>\n",
       "      <td>41000</td>\n",
       "      <td>0</td>\n",
       "      <td>0</td>\n",
       "      <td>Figo</td>\n",
       "    </tr>\n",
       "  </tbody>\n",
       "</table>\n",
       "</div>"
      ],
      "text/plain": [
       "    company   Price  kms_driven  LPG  Petrol                          rename\n",
       "0   Hyundai   80000       45000    0       1    Santro Xing XO eRLX Euro III\n",
       "1  Mahindra  425000          40    0       0                  Jeep CL550 MDI\n",
       "3   Hyundai  325000       28000    0       1  Grand i10 Magna 1.2 Kappa VTVT\n",
       "4      Ford  575000       36000    0       0     EcoSport Titanium 1.5L TDCi\n",
       "6      Ford  175000       41000    0       0                            Figo"
      ]
     },
     "execution_count": 51,
     "metadata": {},
     "output_type": "execute_result"
    }
   ],
   "source": [
    "df.head()"
   ]
  },
  {
   "cell_type": "code",
   "execution_count": 52,
   "id": "2b48544a-c4fc-4af6-8251-c060b3fdfd36",
   "metadata": {},
   "outputs": [],
   "source": [
    "df['rename'] = df['rename'].str.split(' ').str[0:2].str.join(' ')"
   ]
  },
  {
   "cell_type": "code",
   "execution_count": 53,
   "id": "a27e53e7-cf38-4ffa-9788-98332ab2d1e4",
   "metadata": {},
   "outputs": [
    {
     "data": {
      "text/plain": [
       "rename\n",
       "Suzuki Swift     54\n",
       "Suzuki Alto      43\n",
       "Suzuki Wagon     28\n",
       "Suzuki Ertiga    16\n",
       "Santro Xing      15\n",
       "Name: count, dtype: int64"
      ]
     },
     "execution_count": 53,
     "metadata": {},
     "output_type": "execute_result"
    }
   ],
   "source": [
    "df['rename'].value_counts().head()"
   ]
  },
  {
   "cell_type": "code",
   "execution_count": 54,
   "id": "b3454568-8524-4c0c-933d-568038ff49c9",
   "metadata": {},
   "outputs": [
    {
     "data": {
      "text/html": [
       "<div>\n",
       "<style scoped>\n",
       "    .dataframe tbody tr th:only-of-type {\n",
       "        vertical-align: middle;\n",
       "    }\n",
       "\n",
       "    .dataframe tbody tr th {\n",
       "        vertical-align: top;\n",
       "    }\n",
       "\n",
       "    .dataframe thead th {\n",
       "        text-align: right;\n",
       "    }\n",
       "</style>\n",
       "<table border=\"1\" class=\"dataframe\">\n",
       "  <thead>\n",
       "    <tr style=\"text-align: right;\">\n",
       "      <th></th>\n",
       "      <th>Price</th>\n",
       "      <th>kms_driven</th>\n",
       "      <th>LPG</th>\n",
       "      <th>Petrol</th>\n",
       "    </tr>\n",
       "  </thead>\n",
       "  <tbody>\n",
       "    <tr>\n",
       "      <th>count</th>\n",
       "      <td>8.540000e+02</td>\n",
       "      <td>854.000000</td>\n",
       "      <td>854.000000</td>\n",
       "      <td>854.000000</td>\n",
       "    </tr>\n",
       "    <tr>\n",
       "      <th>mean</th>\n",
       "      <td>4.054193e+05</td>\n",
       "      <td>46023.224824</td>\n",
       "      <td>0.002342</td>\n",
       "      <td>0.545667</td>\n",
       "    </tr>\n",
       "    <tr>\n",
       "      <th>std</th>\n",
       "      <td>4.661851e+05</td>\n",
       "      <td>33549.006135</td>\n",
       "      <td>0.048365</td>\n",
       "      <td>0.498202</td>\n",
       "    </tr>\n",
       "    <tr>\n",
       "      <th>min</th>\n",
       "      <td>3.000000e+04</td>\n",
       "      <td>0.000000</td>\n",
       "      <td>0.000000</td>\n",
       "      <td>0.000000</td>\n",
       "    </tr>\n",
       "    <tr>\n",
       "      <th>25%</th>\n",
       "      <td>1.750000e+05</td>\n",
       "      <td>28000.000000</td>\n",
       "      <td>0.000000</td>\n",
       "      <td>0.000000</td>\n",
       "    </tr>\n",
       "    <tr>\n",
       "      <th>50%</th>\n",
       "      <td>2.999990e+05</td>\n",
       "      <td>41000.000000</td>\n",
       "      <td>0.000000</td>\n",
       "      <td>1.000000</td>\n",
       "    </tr>\n",
       "    <tr>\n",
       "      <th>75%</th>\n",
       "      <td>4.872500e+05</td>\n",
       "      <td>56000.000000</td>\n",
       "      <td>0.000000</td>\n",
       "      <td>1.000000</td>\n",
       "    </tr>\n",
       "    <tr>\n",
       "      <th>max</th>\n",
       "      <td>8.500003e+06</td>\n",
       "      <td>400000.000000</td>\n",
       "      <td>1.000000</td>\n",
       "      <td>1.000000</td>\n",
       "    </tr>\n",
       "  </tbody>\n",
       "</table>\n",
       "</div>"
      ],
      "text/plain": [
       "              Price     kms_driven         LPG      Petrol\n",
       "count  8.540000e+02     854.000000  854.000000  854.000000\n",
       "mean   4.054193e+05   46023.224824    0.002342    0.545667\n",
       "std    4.661851e+05   33549.006135    0.048365    0.498202\n",
       "min    3.000000e+04       0.000000    0.000000    0.000000\n",
       "25%    1.750000e+05   28000.000000    0.000000    0.000000\n",
       "50%    2.999990e+05   41000.000000    0.000000    1.000000\n",
       "75%    4.872500e+05   56000.000000    0.000000    1.000000\n",
       "max    8.500003e+06  400000.000000    1.000000    1.000000"
      ]
     },
     "execution_count": 54,
     "metadata": {},
     "output_type": "execute_result"
    }
   ],
   "source": [
    "df.describe()"
   ]
  },
  {
   "cell_type": "code",
   "execution_count": 55,
   "id": "00dcdda7-59fa-497d-8b58-e0a370601d84",
   "metadata": {},
   "outputs": [
    {
     "data": {
      "text/html": [
       "<div>\n",
       "<style scoped>\n",
       "    .dataframe tbody tr th:only-of-type {\n",
       "        vertical-align: middle;\n",
       "    }\n",
       "\n",
       "    .dataframe tbody tr th {\n",
       "        vertical-align: top;\n",
       "    }\n",
       "\n",
       "    .dataframe thead th {\n",
       "        text-align: right;\n",
       "    }\n",
       "</style>\n",
       "<table border=\"1\" class=\"dataframe\">\n",
       "  <thead>\n",
       "    <tr style=\"text-align: right;\">\n",
       "      <th></th>\n",
       "      <th>company</th>\n",
       "      <th>Price</th>\n",
       "      <th>kms_driven</th>\n",
       "      <th>LPG</th>\n",
       "      <th>Petrol</th>\n",
       "      <th>rename</th>\n",
       "    </tr>\n",
       "  </thead>\n",
       "  <tbody>\n",
       "    <tr>\n",
       "      <th>562</th>\n",
       "      <td>Mahindra</td>\n",
       "      <td>8500003</td>\n",
       "      <td>45000</td>\n",
       "      <td>0</td>\n",
       "      <td>0</td>\n",
       "      <td>XUV500 W6</td>\n",
       "    </tr>\n",
       "  </tbody>\n",
       "</table>\n",
       "</div>"
      ],
      "text/plain": [
       "      company    Price  kms_driven  LPG  Petrol     rename\n",
       "562  Mahindra  8500003       45000    0       0  XUV500 W6"
      ]
     },
     "execution_count": 55,
     "metadata": {},
     "output_type": "execute_result"
    }
   ],
   "source": [
    "df[df['Price'] > 4000000]"
   ]
  },
  {
   "cell_type": "code",
   "execution_count": 56,
   "id": "545dbcbc-af60-4927-9cd2-53703124dde8",
   "metadata": {},
   "outputs": [],
   "source": [
    "df = df[~df['Price'].isin([8500003])]"
   ]
  },
  {
   "cell_type": "code",
   "execution_count": 57,
   "id": "5834e32f-5559-4f6a-9ad8-1132e3373f0d",
   "metadata": {},
   "outputs": [
    {
     "data": {
      "text/html": [
       "<div>\n",
       "<style scoped>\n",
       "    .dataframe tbody tr th:only-of-type {\n",
       "        vertical-align: middle;\n",
       "    }\n",
       "\n",
       "    .dataframe tbody tr th {\n",
       "        vertical-align: top;\n",
       "    }\n",
       "\n",
       "    .dataframe thead th {\n",
       "        text-align: right;\n",
       "    }\n",
       "</style>\n",
       "<table border=\"1\" class=\"dataframe\">\n",
       "  <thead>\n",
       "    <tr style=\"text-align: right;\">\n",
       "      <th></th>\n",
       "      <th>company</th>\n",
       "      <th>Price</th>\n",
       "      <th>kms_driven</th>\n",
       "      <th>LPG</th>\n",
       "      <th>Petrol</th>\n",
       "      <th>rename</th>\n",
       "    </tr>\n",
       "  </thead>\n",
       "  <tbody>\n",
       "  </tbody>\n",
       "</table>\n",
       "</div>"
      ],
      "text/plain": [
       "Empty DataFrame\n",
       "Columns: [company, Price, kms_driven, LPG, Petrol, rename]\n",
       "Index: []"
      ]
     },
     "execution_count": 57,
     "metadata": {},
     "output_type": "execute_result"
    }
   ],
   "source": [
    "df[df['Price'] > 4000000]"
   ]
  },
  {
   "cell_type": "code",
   "execution_count": 58,
   "id": "dd4a9bae-5d96-4867-9f31-a56798ea4360",
   "metadata": {},
   "outputs": [
    {
     "data": {
      "image/png": "[encoded data removed]",
      "text/plain": [
       "<Figure size 640x480 with 1 Axes>"
      ]
     },
     "metadata": {},
     "output_type": "display_data"
    }
   ],
   "source": [
    "sns.boxplot(df['kms_driven'])\n",
    "plt.show()"
   ]
  },
  {
   "cell_type": "code",
   "execution_count": 59,
   "id": "ac2305d5-e3c1-46dd-b210-3202766d09bb",
   "metadata": {},
   "outputs": [],
   "source": [
    "df['kms_driven'] = df['kms_driven'][df['kms_driven'] < df['kms_driven'].quantile(0.99999)]"
   ]
  },
  {
   "cell_type": "code",
   "execution_count": 60,
   "id": "94eb8f8b-f978-4476-8175-601186d142e8",
   "metadata": {},
   "outputs": [
    {
     "data": {
      "image/png": "[encoded data removed]",
      "text/plain": [
       "<Figure size 640x480 with 1 Axes>"
      ]
     },
     "metadata": {},
     "output_type": "display_data"
    }
   ],
   "source": [
    "sns.boxplot(df['kms_driven'])\n",
    "plt.show()"
   ]
  },
  {
   "cell_type": "code",
   "execution_count": 61,
   "id": "5e21c32d-2630-4494-9633-a0901af0d1e4",
   "metadata": {},
   "outputs": [],
   "source": [
    "from scipy.stats import boxcox"
   ]
  },
  {
   "cell_type": "code",
   "execution_count": 62,
   "id": "ce2e585f-0892-429f-b05e-1779d095a6c8",
   "metadata": {},
   "outputs": [
    {
     "data": {
      "image/png": "[encoded data removed]",
      "text/plain": [
       "<Figure size 640x480 with 1 Axes>"
      ]
     },
     "metadata": {},
     "output_type": "display_data"
    }
   ],
   "source": [
    "sns.histplot(df['kms_driven'],kde=True)\n",
    "plt.show()"
   ]
  },
  {
   "cell_type": "code",
   "execution_count": 63,
   "id": "008106a9-55c6-42f5-81a2-8a7eacf898e8",
   "metadata": {},
   "outputs": [
    {
     "data": {
      "image/png": "[encoded data removed]",
      "text/plain": [
       "<Figure size 640x480 with 2 Axes>"
      ]
     },
     "metadata": {},
     "output_type": "display_data"
    }
   ],
   "source": [
    "plt.subplot(1,2,1)\n",
    "sns.histplot(np.sqrt(df['kms_driven']),kde=True)\n",
    "\n",
    "plt.subplot(1,2,2)\n",
    "stat.probplot(np.sqrt(df['kms_driven']), dist='norm', plot=plt)\n",
    "plt.show()"
   ]
  },
  {
   "cell_type": "code",
   "execution_count": 64,
   "id": "0218283f-1993-467e-94c4-a61907e9bd04",
   "metadata": {},
   "outputs": [],
   "source": [
    "df['new_kms'] = np.sqrt(df['kms_driven'])"
   ]
  },
  {
   "cell_type": "code",
   "execution_count": 65,
   "id": "0ebd6b61-7803-4a32-b435-27fdff15c8c8",
   "metadata": {},
   "outputs": [],
   "source": [
    "df.drop('kms_driven' , axis=1, inplace=True)"
   ]
  },
  {
   "cell_type": "code",
   "execution_count": 66,
   "id": "20d0f478-e9ec-40ce-a1e9-c4b46a2340b0",
   "metadata": {},
   "outputs": [
    {
     "data": {
      "text/html": [
       "<div>\n",
       "<style scoped>\n",
       "    .dataframe tbody tr th:only-of-type {\n",
       "        vertical-align: middle;\n",
       "    }\n",
       "\n",
       "    .dataframe tbody tr th {\n",
       "        vertical-align: top;\n",
       "    }\n",
       "\n",
       "    .dataframe thead th {\n",
       "        text-align: right;\n",
       "    }\n",
       "</style>\n",
       "<table border=\"1\" class=\"dataframe\">\n",
       "  <thead>\n",
       "    <tr style=\"text-align: right;\">\n",
       "      <th></th>\n",
       "      <th>company</th>\n",
       "      <th>Price</th>\n",
       "      <th>LPG</th>\n",
       "      <th>Petrol</th>\n",
       "      <th>rename</th>\n",
       "      <th>new_kms</th>\n",
       "    </tr>\n",
       "  </thead>\n",
       "  <tbody>\n",
       "    <tr>\n",
       "      <th>0</th>\n",
       "      <td>Hyundai</td>\n",
       "      <td>80000</td>\n",
       "      <td>0</td>\n",
       "      <td>1</td>\n",
       "      <td>Santro Xing</td>\n",
       "      <td>212.132034</td>\n",
       "    </tr>\n",
       "    <tr>\n",
       "      <th>1</th>\n",
       "      <td>Mahindra</td>\n",
       "      <td>425000</td>\n",
       "      <td>0</td>\n",
       "      <td>0</td>\n",
       "      <td>Jeep CL550</td>\n",
       "      <td>6.324555</td>\n",
       "    </tr>\n",
       "    <tr>\n",
       "      <th>3</th>\n",
       "      <td>Hyundai</td>\n",
       "      <td>325000</td>\n",
       "      <td>0</td>\n",
       "      <td>1</td>\n",
       "      <td>Grand i10</td>\n",
       "      <td>167.332005</td>\n",
       "    </tr>\n",
       "    <tr>\n",
       "      <th>4</th>\n",
       "      <td>Ford</td>\n",
       "      <td>575000</td>\n",
       "      <td>0</td>\n",
       "      <td>0</td>\n",
       "      <td>EcoSport Titanium</td>\n",
       "      <td>189.736660</td>\n",
       "    </tr>\n",
       "    <tr>\n",
       "      <th>6</th>\n",
       "      <td>Ford</td>\n",
       "      <td>175000</td>\n",
       "      <td>0</td>\n",
       "      <td>0</td>\n",
       "      <td>Figo</td>\n",
       "      <td>202.484567</td>\n",
       "    </tr>\n",
       "  </tbody>\n",
       "</table>\n",
       "</div>"
      ],
      "text/plain": [
       "    company   Price  LPG  Petrol             rename     new_kms\n",
       "0   Hyundai   80000    0       1        Santro Xing  212.132034\n",
       "1  Mahindra  425000    0       0         Jeep CL550    6.324555\n",
       "3   Hyundai  325000    0       1          Grand i10  167.332005\n",
       "4      Ford  575000    0       0  EcoSport Titanium  189.736660\n",
       "6      Ford  175000    0       0               Figo  202.484567"
      ]
     },
     "execution_count": 66,
     "metadata": {},
     "output_type": "execute_result"
    }
   ],
   "source": [
    "df.head()"
   ]
  },
  {
   "cell_type": "code",
   "execution_count": 67,
   "id": "7854af33-aa36-4e5c-89de-4d555c49e789",
   "metadata": {},
   "outputs": [
    {
     "data": {
      "image/png": "[encoded data removed]",
      "text/plain": [
       "<Figure size 640x480 with 1 Axes>"
      ]
     },
     "metadata": {},
     "output_type": "display_data"
    }
   ],
   "source": [
    "sns.histplot(df['Price'],kde=True)\n",
    "plt.show()"
   ]
  },
  {
   "cell_type": "code",
   "execution_count": 68,
   "id": "ddfab429-31e3-42d4-b363-ff6bec57762a",
   "metadata": {},
   "outputs": [
    {
     "data": {
      "image/png": "[encoded data removed]",
      "text/plain": [
       "<Figure size 640x480 with 2 Axes>"
      ]
     },
     "metadata": {},
     "output_type": "display_data"
    }
   ],
   "source": [
    "plt.subplot(1,2,1)\n",
    "sns.histplot(np.sqrt(df['Price']),kde=True)\n",
    "\n",
    "plt.subplot(1,2,2)\n",
    "stat.probplot(np.sqrt(df['Price']), plot=plt, dist='norm')\n",
    "plt.show()"
   ]
  },
  {
   "cell_type": "code",
   "execution_count": 69,
   "id": "25131e85-6578-4fe9-9233-7dd6f7dd2987",
   "metadata": {},
   "outputs": [],
   "source": [
    "ptr , plam = boxcox(df['Price'])"
   ]
  },
  {
   "cell_type": "code",
   "execution_count": 70,
   "id": "fd95cf3f-da28-42fa-a8ad-295139c676b9",
   "metadata": {},
   "outputs": [
    {
     "data": {
      "image/png": "[encoded data removed]",
      "text/plain": [
       "<Figure size 640x480 with 2 Axes>"
      ]
     },
     "metadata": {},
     "output_type": "display_data"
    }
   ],
   "source": [
    "plt.subplot(1,2,1)\n",
    "sns.histplot(ptr,kde=True)\n",
    "\n",
    "plt.subplot(1,2,2)\n",
    "stat.probplot(ptr, plot=plt, dist='norm')\n",
    "plt.show()"
   ]
  },
  {
   "cell_type": "code",
   "execution_count": 71,
   "id": "8d1ee40c-9495-4d84-892e-d4d3dd294ec2",
   "metadata": {},
   "outputs": [],
   "source": [
    "df['new_price'] = ptr"
   ]
  },
  {
   "cell_type": "code",
   "execution_count": 72,
   "id": "5b06360d-dc40-4723-9294-85e75adf4936",
   "metadata": {},
   "outputs": [],
   "source": [
    "df.drop('Price' , axis=1, inplace = True)"
   ]
  },
  {
   "cell_type": "code",
   "execution_count": 73,
   "id": "a46f2d8a-f954-4fb7-b00c-76d999b5d312",
   "metadata": {},
   "outputs": [
    {
     "data": {
      "text/html": [
       "<div>\n",
       "<style scoped>\n",
       "    .dataframe tbody tr th:only-of-type {\n",
       "        vertical-align: middle;\n",
       "    }\n",
       "\n",
       "    .dataframe tbody tr th {\n",
       "        vertical-align: top;\n",
       "    }\n",
       "\n",
       "    .dataframe thead th {\n",
       "        text-align: right;\n",
       "    }\n",
       "</style>\n",
       "<table border=\"1\" class=\"dataframe\">\n",
       "  <thead>\n",
       "    <tr style=\"text-align: right;\">\n",
       "      <th></th>\n",
       "      <th>company</th>\n",
       "      <th>LPG</th>\n",
       "      <th>Petrol</th>\n",
       "      <th>rename</th>\n",
       "      <th>new_kms</th>\n",
       "      <th>new_price</th>\n",
       "    </tr>\n",
       "  </thead>\n",
       "  <tbody>\n",
       "    <tr>\n",
       "      <th>0</th>\n",
       "      <td>Hyundai</td>\n",
       "      <td>0</td>\n",
       "      <td>1</td>\n",
       "      <td>Santro Xing</td>\n",
       "      <td>212.132034</td>\n",
       "      <td>12.383245</td>\n",
       "    </tr>\n",
       "    <tr>\n",
       "      <th>1</th>\n",
       "      <td>Mahindra</td>\n",
       "      <td>0</td>\n",
       "      <td>0</td>\n",
       "      <td>Jeep CL550</td>\n",
       "      <td>6.324555</td>\n",
       "      <td>14.414170</td>\n",
       "    </tr>\n",
       "    <tr>\n",
       "      <th>3</th>\n",
       "      <td>Hyundai</td>\n",
       "      <td>0</td>\n",
       "      <td>1</td>\n",
       "      <td>Grand i10</td>\n",
       "      <td>167.332005</td>\n",
       "      <td>14.084241</td>\n",
       "    </tr>\n",
       "    <tr>\n",
       "      <th>4</th>\n",
       "      <td>Ford</td>\n",
       "      <td>0</td>\n",
       "      <td>0</td>\n",
       "      <td>EcoSport Titanium</td>\n",
       "      <td>189.736660</td>\n",
       "      <td>14.787651</td>\n",
       "    </tr>\n",
       "    <tr>\n",
       "      <th>6</th>\n",
       "      <td>Ford</td>\n",
       "      <td>0</td>\n",
       "      <td>0</td>\n",
       "      <td>Figo</td>\n",
       "      <td>202.484567</td>\n",
       "      <td>13.328330</td>\n",
       "    </tr>\n",
       "  </tbody>\n",
       "</table>\n",
       "</div>"
      ],
      "text/plain": [
       "    company  LPG  Petrol             rename     new_kms  new_price\n",
       "0   Hyundai    0       1        Santro Xing  212.132034  12.383245\n",
       "1  Mahindra    0       0         Jeep CL550    6.324555  14.414170\n",
       "3   Hyundai    0       1          Grand i10  167.332005  14.084241\n",
       "4      Ford    0       0  EcoSport Titanium  189.736660  14.787651\n",
       "6      Ford    0       0               Figo  202.484567  13.328330"
      ]
     },
     "execution_count": 73,
     "metadata": {},
     "output_type": "execute_result"
    }
   ],
   "source": [
    "df.head()"
   ]
  },
  {
   "cell_type": "code",
   "execution_count": 74,
   "id": "73188488-2d2e-423e-9dbb-95b9b38bb197",
   "metadata": {},
   "outputs": [
    {
     "name": "stdout",
     "output_type": "stream",
     "text": [
      "<class 'pandas.core.frame.DataFrame'>\n",
      "Index: 853 entries, 0 to 889\n",
      "Data columns (total 6 columns):\n",
      " #   Column     Non-Null Count  Dtype  \n",
      "---  ------     --------------  -----  \n",
      " 0   company    853 non-null    object \n",
      " 1   LPG        853 non-null    int32  \n",
      " 2   Petrol     853 non-null    int32  \n",
      " 3   rename     853 non-null    object \n",
      " 4   new_kms    852 non-null    float64\n",
      " 5   new_price  853 non-null    float64\n",
      "dtypes: float64(2), int32(2), object(2)\n",
      "memory usage: 40.0+ KB\n"
     ]
    }
   ],
   "source": [
    "df.info()"
   ]
  },
  {
   "cell_type": "code",
   "execution_count": 75,
   "id": "03d73f64-d08b-4a26-9c36-50a8b8162bfd",
   "metadata": {},
   "outputs": [],
   "source": [
    "df['new_kms'] = df['new_kms'].fillna(df['new_kms'].mean())"
   ]
  },
  {
   "cell_type": "code",
   "execution_count": null,
   "id": "2da35c39-b735-4e2b-b02f-bb9f6b42891e",
   "metadata": {},
   "outputs": [],
   "source": []
  },
  {
   "cell_type": "code",
   "execution_count": null,
   "id": "64b41f02-4004-454e-b417-44ab996184d4",
   "metadata": {},
   "outputs": [],
   "source": []
  },
  {
   "cell_type": "code",
   "execution_count": 76,
   "id": "309d836e-cf0f-4dca-8d43-7d775578efbc",
   "metadata": {},
   "outputs": [],
   "source": [
    "x = df.drop('new_price', axis=1)\n",
    "y = df['new_price']"
   ]
  },
  {
   "cell_type": "code",
   "execution_count": 77,
   "id": "174bfd28-2967-47f8-9cd9-acb9844ad706",
   "metadata": {},
   "outputs": [
    {
     "data": {
      "text/html": [
       "<div>\n",
       "<style scoped>\n",
       "    .dataframe tbody tr th:only-of-type {\n",
       "        vertical-align: middle;\n",
       "    }\n",
       "\n",
       "    .dataframe tbody tr th {\n",
       "        vertical-align: top;\n",
       "    }\n",
       "\n",
       "    .dataframe thead th {\n",
       "        text-align: right;\n",
       "    }\n",
       "</style>\n",
       "<table border=\"1\" class=\"dataframe\">\n",
       "  <thead>\n",
       "    <tr style=\"text-align: right;\">\n",
       "      <th></th>\n",
       "      <th>company</th>\n",
       "      <th>LPG</th>\n",
       "      <th>Petrol</th>\n",
       "      <th>rename</th>\n",
       "      <th>new_kms</th>\n",
       "    </tr>\n",
       "  </thead>\n",
       "  <tbody>\n",
       "    <tr>\n",
       "      <th>0</th>\n",
       "      <td>Hyundai</td>\n",
       "      <td>0</td>\n",
       "      <td>1</td>\n",
       "      <td>Santro Xing</td>\n",
       "      <td>212.132034</td>\n",
       "    </tr>\n",
       "    <tr>\n",
       "      <th>1</th>\n",
       "      <td>Mahindra</td>\n",
       "      <td>0</td>\n",
       "      <td>0</td>\n",
       "      <td>Jeep CL550</td>\n",
       "      <td>6.324555</td>\n",
       "    </tr>\n",
       "    <tr>\n",
       "      <th>3</th>\n",
       "      <td>Hyundai</td>\n",
       "      <td>0</td>\n",
       "      <td>1</td>\n",
       "      <td>Grand i10</td>\n",
       "      <td>167.332005</td>\n",
       "    </tr>\n",
       "    <tr>\n",
       "      <th>4</th>\n",
       "      <td>Ford</td>\n",
       "      <td>0</td>\n",
       "      <td>0</td>\n",
       "      <td>EcoSport Titanium</td>\n",
       "      <td>189.736660</td>\n",
       "    </tr>\n",
       "    <tr>\n",
       "      <th>6</th>\n",
       "      <td>Ford</td>\n",
       "      <td>0</td>\n",
       "      <td>0</td>\n",
       "      <td>Figo</td>\n",
       "      <td>202.484567</td>\n",
       "    </tr>\n",
       "  </tbody>\n",
       "</table>\n",
       "</div>"
      ],
      "text/plain": [
       "    company  LPG  Petrol             rename     new_kms\n",
       "0   Hyundai    0       1        Santro Xing  212.132034\n",
       "1  Mahindra    0       0         Jeep CL550    6.324555\n",
       "3   Hyundai    0       1          Grand i10  167.332005\n",
       "4      Ford    0       0  EcoSport Titanium  189.736660\n",
       "6      Ford    0       0               Figo  202.484567"
      ]
     },
     "execution_count": 77,
     "metadata": {},
     "output_type": "execute_result"
    }
   ],
   "source": [
    "x.head()"
   ]
  },
  {
   "cell_type": "code",
   "execution_count": 78,
   "id": "ab7d7448-b2d5-4aea-82ef-660c160f163d",
   "metadata": {},
   "outputs": [
    {
     "data": {
      "text/plain": [
       "0      12.383245\n",
       "1      14.414170\n",
       "3      14.084241\n",
       "4      14.787651\n",
       "6      13.328330\n",
       "         ...    \n",
       "885    12.766299\n",
       "886    13.986075\n",
       "887    14.026274\n",
       "888    13.810889\n",
       "889    14.308317\n",
       "Name: new_price, Length: 853, dtype: float64"
      ]
     },
     "execution_count": 78,
     "metadata": {},
     "output_type": "execute_result"
    }
   ],
   "source": [
    "y"
   ]
  },
  {
   "cell_type": "code",
   "execution_count": 79,
   "id": "98f971c2-4931-4720-b041-4ca47fa23cd6",
   "metadata": {},
   "outputs": [],
   "source": [
    "from sklearn.model_selection import train_test_split\n",
    "x_train,x_test,y_train,y_test = train_test_split(x,y,test_size=0.2)"
   ]
  },
  {
   "cell_type": "code",
   "execution_count": 80,
   "id": "7f74ac75-fa46-4b2c-b0aa-525813982d1e",
   "metadata": {},
   "outputs": [],
   "source": [
    "from sklearn.linear_model import LinearRegression\n",
    "from sklearn.metrics import r2_score\n",
    "from sklearn.preprocessing import OneHotEncoder\n",
    "from sklearn.compose import make_column_transformer\n",
    "from sklearn.pipeline import make_pipeline"
   ]
  },
  {
   "cell_type": "code",
   "execution_count": 81,
   "id": "75c5acd2-0cfe-471d-b941-93aef91419f2",
   "metadata": {},
   "outputs": [
    {
     "data": {
      "text/html": [
       "<style>#sk-container-id-1 {color: black;}#sk-container-id-1 pre{padding: 0;}#sk-container-id-1 div.sk-toggleable {background-color: white;}#sk-container-id-1 label.sk-toggleable__label {cursor: pointer;display: block;width: 100%;margin-bottom: 0;padding: 0.3em;box-sizing: border-box;text-align: center;}#sk-container-id-1 label.sk-toggleable__label-arrow:before {content: \"▸\";float: left;margin-right: 0.25em;color: #696969;}#sk-container-id-1 label.sk-toggleable__label-arrow:hover:before {color: black;}#sk-container-id-1 div.sk-estimator:hover label.sk-toggleable__label-arrow:before {color: black;}#sk-container-id-1 div.sk-toggleable__content {max-height: 0;max-width: 0;overflow: hidden;text-align: left;background-color: #f0f8ff;}#sk-container-id-1 div.sk-toggleable__content pre {margin: 0.2em;color: black;border-radius: 0.25em;background-color: #f0f8ff;}#sk-container-id-1 input.sk-toggleable__control:checked~div.sk-toggleable__content {max-height: 200px;max-width: 100%;overflow: auto;}#sk-container-id-1 input.sk-toggleable__control:checked~label.sk-toggleable__label-arrow:before {content: \"▾\";}#sk-container-id-1 div.sk-estimator input.sk-toggleable__control:checked~label.sk-toggleable__label {background-color: #d4ebff;}#sk-container-id-1 div.sk-label input.sk-toggleable__control:checked~label.sk-toggleable__label {background-color: #d4ebff;}#sk-container-id-1 input.sk-hidden--visually {border: 0;clip: rect(1px 1px 1px 1px);clip: rect(1px, 1px, 1px, 1px);height: 1px;margin: -1px;overflow: hidden;padding: 0;position: absolute;width: 1px;}#sk-container-id-1 div.sk-estimator {font-family: monospace;background-color: #f0f8ff;border: 1px dotted black;border-radius: 0.25em;box-sizing: border-box;margin-bottom: 0.5em;}#sk-container-id-1 div.sk-estimator:hover {background-color: #d4ebff;}#sk-container-id-1 div.sk-parallel-item::after {content: \"\";width: 100%;border-bottom: 1px solid gray;flex-grow: 1;}#sk-container-id-1 div.sk-label:hover label.sk-toggleable__label {background-color: #d4ebff;}#sk-container-id-1 div.sk-serial::before {content: \"\";position: absolute;border-left: 1px solid gray;box-sizing: border-box;top: 0;bottom: 0;left: 50%;z-index: 0;}#sk-container-id-1 div.sk-serial {display: flex;flex-direction: column;align-items: center;background-color: white;padding-right: 0.2em;padding-left: 0.2em;position: relative;}#sk-container-id-1 div.sk-item {position: relative;z-index: 1;}#sk-container-id-1 div.sk-parallel {display: flex;align-items: stretch;justify-content: center;background-color: white;position: relative;}#sk-container-id-1 div.sk-item::before, #sk-container-id-1 div.sk-parallel-item::before {content: \"\";position: absolute;border-left: 1px solid gray;box-sizing: border-box;top: 0;bottom: 0;left: 50%;z-index: -1;}#sk-container-id-1 div.sk-parallel-item {display: flex;flex-direction: column;z-index: 1;position: relative;background-color: white;}#sk-container-id-1 div.sk-parallel-item:first-child::after {align-self: flex-end;width: 50%;}#sk-container-id-1 div.sk-parallel-item:last-child::after {align-self: flex-start;width: 50%;}#sk-container-id-1 div.sk-parallel-item:only-child::after {width: 0;}#sk-container-id-1 div.sk-dashed-wrapped {border: 1px dashed gray;margin: 0 0.4em 0.5em 0.4em;box-sizing: border-box;padding-bottom: 0.4em;background-color: white;}#sk-container-id-1 div.sk-label label {font-family: monospace;font-weight: bold;display: inline-block;line-height: 1.2em;}#sk-container-id-1 div.sk-label-container {text-align: center;}#sk-container-id-1 div.sk-container {/* jupyter's `normalize.less` sets `[hidden] { display: none; }` but bootstrap.min.css set `[hidden] { display: none !important; }` so we also need the `!important` here to be able to override the default hidden behavior on the sphinx rendered scikit-learn.org. See: https://github.com/scikit-learn/scikit-learn/issues/21755 */display: inline-block !important;position: relative;}#sk-container-id-1 div.sk-text-repr-fallback {display: none;}</style><div id=\"sk-container-id-1\" class=\"sk-top-container\"><div class=\"sk-text-repr-fallback\"><pre>OneHotEncoder()</pre><b>In a Jupyter environment, please rerun this cell to show the HTML representation or trust the notebook. <br />On GitHub, the HTML representation is unable to render, please try loading this page with nbviewer.org.</b></div><div class=\"sk-container\" hidden><div class=\"sk-item\"><div class=\"sk-estimator sk-toggleable\"><input class=\"sk-toggleable__control sk-hidden--visually\" id=\"sk-estimator-id-1\" type=\"checkbox\" checked><label for=\"sk-estimator-id-1\" class=\"sk-toggleable__label sk-toggleable__label-arrow\">OneHotEncoder</label><div class=\"sk-toggleable__content\"><pre>OneHotEncoder()</pre></div></div></div></div></div>"
      ],
      "text/plain": [
       "OneHotEncoder()"
      ]
     },
     "execution_count": 81,
     "metadata": {},
     "output_type": "execute_result"
    }
   ],
   "source": [
    "ohe = OneHotEncoder()\n",
    "ohe.fit(x[['rename','company']])"
   ]
  },
  {
   "cell_type": "code",
   "execution_count": 82,
   "id": "40c3458c-2a81-4c3d-b71a-95807582ae88",
   "metadata": {},
   "outputs": [
    {
     "data": {
      "text/plain": [
       "[array(['3 Series', '5 Series', '7 Series', 'A3 Cabriolet', 'A4 1.8',\n",
       "        'A4 2.0', 'A6 2.0', 'A8', 'Accent', 'Accent Executive',\n",
       "        'Accent GLE', 'Accent GLX', 'Accord', 'Amaze', 'Amaze 1.2',\n",
       "        'Amaze 1.5', 'Aria Pleasure', 'Beat', 'Beat Diesel', 'Beat LS',\n",
       "        'Beat LT', 'Beat PS', 'Benz A', 'Benz B', 'Benz C', 'Benz GLA',\n",
       "        'Bolero DI', 'Bolero Power', 'Bolero SLE', 'Bolt XM', 'Brio',\n",
       "        'Brio V', 'Brio VX', 'Car Ta', 'Chevrolet Sail', 'Chevrolet beat',\n",
       "        'City', 'City 1.5', 'City SV', 'City VX', 'City ZX',\n",
       "        'Commercial Maruti', 'Cooper S', 'Corolla', 'Corolla Altis',\n",
       "        'Corolla H2', 'Creta', 'Creta 1.6', 'Cruze LTZ', 'Duster',\n",
       "        'Duster 110', 'Duster 110PS', 'Duster 85', 'Duster 85PS',\n",
       "        'Duster RxL', 'Dzire Tour', 'EcoSport', 'EcoSport Ambiente',\n",
       "        'EcoSport Titanium', 'EcoSport Trend', 'Elantra 1.8', 'Elantra SX',\n",
       "        'Elite i20', 'Endeavor 4x4', 'Enjoy', 'Enjoy 1.4', 'Eon', 'Eon D',\n",
       "        'Eon Era', 'Eon Magna', 'Eon Sportz', 'Ertiga showroom', 'Etios',\n",
       "        'Etios G', 'Etios GD', 'Etios Liva', 'Fabia', 'Fabia 1.2L',\n",
       "        'Fabia Classic', 'Fiesta', 'Fiesta SXi', 'Figo', 'Figo Diesel',\n",
       "        'Figo Duratorq', 'Figo Petrol', 'Fluidic Verna', 'Fortuner',\n",
       "        'Fortuner 3.0', 'Fusion 1.4', 'GO T', 'Getz', 'Getz GLE',\n",
       "        'Getz Prime', 'Go Plus', 'Grand i10', 'INDI', 'Ikon 1.3',\n",
       "        'Ikon 1.6', 'Indica', 'Indica V2', 'Indica eV2', 'Indigo CS',\n",
       "        'Indigo LS', 'Indigo LX', 'Indigo Marina', 'Indigo eCS',\n",
       "        'Innova 2.0', 'Innova 2.5', 'Jazz S', 'Jazz VX', 'Jeep CL550',\n",
       "        'Jeep MM', 'Jetta Comfortline', 'Jetta Highline', 'KUV100',\n",
       "        'KUV100 K8', 'Kwid', 'Kwid 1.0', 'Kwid RXT', 'Lancer 1.8', 'Laura',\n",
       "        'Linea Emotion', 'Lodgy 85', 'Logan', 'Logan Diesel', 'Manza',\n",
       "        'Manza Aqua', 'Manza Aura', 'Manza ELAN', 'Micra XL', 'Micra XV',\n",
       "        'Mobilio', 'Mobilio S', 'Motors Ambassador', 'Motors Force',\n",
       "        'Motors One', 'Nano', 'Nano Cx', 'Nano GenX', 'Nano LX', 'Nano Lx',\n",
       "        'Octavia Classic', 'Pajero Sport', 'Passat Diesel', 'Petra ELX',\n",
       "        'Polo', 'Polo Comfortline', 'Polo Highline', 'Polo Highline1.2L',\n",
       "        'Polo Trendline', 'Punto Emotion', 'Q3 2.0', 'Q5 2.0', 'Q7',\n",
       "        'Qualis', 'Quanto C4', 'Quanto C8', 'Rapid Elegance', 'Redi GO',\n",
       "        'Rover Freelander', 'S80 Summum', 'SUZUKI DESI', 'SUZUKI ERTIGA',\n",
       "        'Sail 1.2', 'Sail UVA', 'Santro', 'Santro AE', 'Santro Xing',\n",
       "        'Scala RxL', 'Scorpio', 'Scorpio 2.6', 'Scorpio LX', 'Scorpio S10',\n",
       "        'Scorpio S4', 'Scorpio SLE', 'Scorpio SLX', 'Scorpio VLX',\n",
       "        'Scorpio Vlx', 'Scorpio W', 'Sonata Transform', 'Spark',\n",
       "        'Spark 1.0', 'Spark LS', 'Spark LT', 'Sumo Gold', 'Sumo Grande',\n",
       "        'Sumo Victa', 'Sunny', 'Sunny XL', 'Superb 1.8', 'Suzuki 800',\n",
       "        'Suzuki A', 'Suzuki Alto', 'Suzuki Baleno', 'Suzuki Celerio',\n",
       "        'Suzuki Ciaz', 'Suzuki Dzire', 'Suzuki Eeco', 'Suzuki Ertiga',\n",
       "        'Suzuki Esteem', 'Suzuki Estilo', 'Suzuki Maruti', 'Suzuki Omni',\n",
       "        'Suzuki Ritz', 'Suzuki S', 'Suzuki SX4', 'Suzuki Stingray',\n",
       "        'Suzuki Swift', 'Suzuki Versa', 'Suzuki Vitara', 'Suzuki Wagon',\n",
       "        'Suzuki Zen', 'Suzuki swift', 'TUV300 T4', 'TUV300 T8', 'Ta',\n",
       "        'Tavera LS', 'Tavera Neo', 'Terrano XL', 'Thar CRDe',\n",
       "        'Tiago Revotorq', 'Tiago Revotron', 'Tigor Revotron', 'URJE',\n",
       "        'Vento Comfortline', 'Vento Highline', 'Vento Konekt',\n",
       "        'Venture EX', 'Verna', 'Verna 1.4', 'Verna 1.6', 'Verna Fluidic',\n",
       "        'Verna Transform', 'Verna VGT', 'Vista Quadrajet', 'WR V',\n",
       "        'Wrangler Unlimited', 'X Trail', 'X1', 'X1 sDrive20d',\n",
       "        'X1 xDrive20d', 'XE XE', 'XF 2.2', 'XUV500', 'XUV500 W10',\n",
       "        'XUV500 W6', 'XUV500 W8', 'Xcent Base', 'Xcent SX', 'Xylo D2',\n",
       "        'Xylo E4', 'Xylo E8', 'Yama', 'Yeti Ambition', 'ZEST 6',\n",
       "        'Zest Quadrajet', 'Zest XE', 'Zest XM', 'bt new', 'good condition',\n",
       "        'i10', 'i10 Era', 'i10 Magna', 'i10 Sportz', 'i20', 'i20 Active',\n",
       "        'i20 Asta', 'i20 Magna', 'i20 Select', 'i20 Sportz', 'indigo',\n",
       "        'indigo 2017', 'indigo ecs', 'less Tata', 'mentained Tata',\n",
       "        'my car', 'paper updated', 'sale Ta', 'sell my', 'tata',\n",
       "        'type car', 'want sale', 'want to', 'xyl', 'zest 2017', 'zest x'],\n",
       "       dtype=object),\n",
       " array(['Any', 'Audi', 'BMW', 'Chevrolet', 'Commercial', 'Datsun', 'Fiat',\n",
       "        'Force', 'Ford', 'Hindustan', 'Honda', 'Hyundai', 'I', 'Jaguar',\n",
       "        'Jeep', 'Land', 'MARUTI', 'Mahindra', 'Maruti', 'Mercedes', 'Mini',\n",
       "        'Mitsubishi', 'Nissan', 'Renault', 'Sale', 'Skoda', 'Swift',\n",
       "        'TATA', 'Tara', 'Tata', 'Toyota', 'URJENT', 'Used', 'Volkswagen',\n",
       "        'Volvo', 'Well', 'Yamaha', 'all', 'i', 'scratch', 'sell', 'tata',\n",
       "        'urgent', 'very'], dtype=object)]"
      ]
     },
     "execution_count": 82,
     "metadata": {},
     "output_type": "execute_result"
    }
   ],
   "source": [
    "ohe.categories_"
   ]
  },
  {
   "cell_type": "code",
   "execution_count": 83,
   "id": "820f6665-1ee8-4af0-9bc6-e72c0eca2d7e",
   "metadata": {},
   "outputs": [],
   "source": [
    "from sklearn.preprocessing import StandardScaler\n",
    "scaler = StandardScaler()"
   ]
  },
  {
   "cell_type": "code",
   "execution_count": 84,
   "id": "81ffb309-4923-431e-8209-7aa4dd067881",
   "metadata": {},
   "outputs": [],
   "source": [
    "column_trans = make_column_transformer((OneHotEncoder(categories=ohe.categories_),['rename','company']),\n",
    "                                       ((StandardScaler(),['new_kms','LPG','Petrol'])),\n",
    "                                      remainder='passthrough')"
   ]
  },
  {
   "cell_type": "code",
   "execution_count": 85,
   "id": "f3a32e02-91e2-4861-a524-d66d1be8b589",
   "metadata": {},
   "outputs": [],
   "source": [
    "lr = LinearRegression()"
   ]
  },
  {
   "cell_type": "code",
   "execution_count": 86,
   "id": "96bc66b5-ea7d-4326-891b-ddf967f024c0",
   "metadata": {},
   "outputs": [],
   "source": [
    "pipe = make_pipeline(column_trans,lr)"
   ]
  },
  {
   "cell_type": "code",
   "execution_count": 87,
   "id": "ec9df124-9056-451e-a521-137f55ad4ebe",
   "metadata": {},
   "outputs": [
    {
     "data": {
      "text/html": [
       "<style>#sk-container-id-2 {color: black;}#sk-container-id-2 pre{padding: 0;}#sk-container-id-2 div.sk-toggleable {background-color: white;}#sk-container-id-2 label.sk-toggleable__label {cursor: pointer;display: block;width: 100%;margin-bottom: 0;padding: 0.3em;box-sizing: border-box;text-align: center;}#sk-container-id-2 label.sk-toggleable__label-arrow:before {content: \"▸\";float: left;margin-right: 0.25em;color: #696969;}#sk-container-id-2 label.sk-toggleable__label-arrow:hover:before {color: black;}#sk-container-id-2 div.sk-estimator:hover label.sk-toggleable__label-arrow:before {color: black;}#sk-container-id-2 div.sk-toggleable__content {max-height: 0;max-width: 0;overflow: hidden;text-align: left;background-color: #f0f8ff;}#sk-container-id-2 div.sk-toggleable__content pre {margin: 0.2em;color: black;border-radius: 0.25em;background-color: #f0f8ff;}#sk-container-id-2 input.sk-toggleable__control:checked~div.sk-toggleable__content {max-height: 200px;max-width: 100%;overflow: auto;}#sk-container-id-2 input.sk-toggleable__control:checked~label.sk-toggleable__label-arrow:before {content: \"▾\";}#sk-container-id-2 div.sk-estimator input.sk-toggleable__control:checked~label.sk-toggleable__label {background-color: #d4ebff;}#sk-container-id-2 div.sk-label input.sk-toggleable__control:checked~label.sk-toggleable__label {background-color: #d4ebff;}#sk-container-id-2 input.sk-hidden--visually {border: 0;clip: rect(1px 1px 1px 1px);clip: rect(1px, 1px, 1px, 1px);height: 1px;margin: -1px;overflow: hidden;padding: 0;position: absolute;width: 1px;}#sk-container-id-2 div.sk-estimator {font-family: monospace;background-color: #f0f8ff;border: 1px dotted black;border-radius: 0.25em;box-sizing: border-box;margin-bottom: 0.5em;}#sk-container-id-2 div.sk-estimator:hover {background-color: #d4ebff;}#sk-container-id-2 div.sk-parallel-item::after {content: \"\";width: 100%;border-bottom: 1px solid gray;flex-grow: 1;}#sk-container-id-2 div.sk-label:hover label.sk-toggleable__label {background-color: #d4ebff;}#sk-container-id-2 div.sk-serial::before {content: \"\";position: absolute;border-left: 1px solid gray;box-sizing: border-box;top: 0;bottom: 0;left: 50%;z-index: 0;}#sk-container-id-2 div.sk-serial {display: flex;flex-direction: column;align-items: center;background-color: white;padding-right: 0.2em;padding-left: 0.2em;position: relative;}#sk-container-id-2 div.sk-item {position: relative;z-index: 1;}#sk-container-id-2 div.sk-parallel {display: flex;align-items: stretch;justify-content: center;background-color: white;position: relative;}#sk-container-id-2 div.sk-item::before, #sk-container-id-2 div.sk-parallel-item::before {content: \"\";position: absolute;border-left: 1px solid gray;box-sizing: border-box;top: 0;bottom: 0;left: 50%;z-index: -1;}#sk-container-id-2 div.sk-parallel-item {display: flex;flex-direction: column;z-index: 1;position: relative;background-color: white;}#sk-container-id-2 div.sk-parallel-item:first-child::after {align-self: flex-end;width: 50%;}#sk-container-id-2 div.sk-parallel-item:last-child::after {align-self: flex-start;width: 50%;}#sk-container-id-2 div.sk-parallel-item:only-child::after {width: 0;}#sk-container-id-2 div.sk-dashed-wrapped {border: 1px dashed gray;margin: 0 0.4em 0.5em 0.4em;box-sizing: border-box;padding-bottom: 0.4em;background-color: white;}#sk-container-id-2 div.sk-label label {font-family: monospace;font-weight: bold;display: inline-block;line-height: 1.2em;}#sk-container-id-2 div.sk-label-container {text-align: center;}#sk-container-id-2 div.sk-container {/* jupyter's `normalize.less` sets `[hidden] { display: none; }` but bootstrap.min.css set `[hidden] { display: none !important; }` so we also need the `!important` here to be able to override the default hidden behavior on the sphinx rendered scikit-learn.org. See: https://github.com/scikit-learn/scikit-learn/issues/21755 */display: inline-block !important;position: relative;}#sk-container-id-2 div.sk-text-repr-fallback {display: none;}</style><div id=\"sk-container-id-2\" class=\"sk-top-container\"><div class=\"sk-text-repr-fallback\"><pre>Pipeline(steps=[(&#x27;columntransformer&#x27;,\n",
       "                 ColumnTransformer(remainder=&#x27;passthrough&#x27;,\n",
       "                                   transformers=[(&#x27;onehotencoder&#x27;,\n",
       "                                                  OneHotEncoder(categories=[array([&#x27;3 Series&#x27;, &#x27;5 Series&#x27;, &#x27;7 Series&#x27;, &#x27;A3 Cabriolet&#x27;, &#x27;A4 1.8&#x27;,\n",
       "       &#x27;A4 2.0&#x27;, &#x27;A6 2.0&#x27;, &#x27;A8&#x27;, &#x27;Accent&#x27;, &#x27;Accent Executive&#x27;,\n",
       "       &#x27;Accent GLE&#x27;, &#x27;Accent GLX&#x27;, &#x27;Accord&#x27;, &#x27;Amaze&#x27;, &#x27;Amaze 1.2&#x27;,\n",
       "       &#x27;Amaze 1.5&#x27;, &#x27;Aria Pleasure&#x27;, &#x27;Beat&#x27;, &#x27;Beat Diesel&#x27;, &#x27;Beat LS&#x27;,...\n",
       "       &#x27;Jeep&#x27;, &#x27;Land&#x27;, &#x27;MARUTI&#x27;, &#x27;Mahindra&#x27;, &#x27;Maruti&#x27;, &#x27;Mercedes&#x27;, &#x27;Mini&#x27;,\n",
       "       &#x27;Mitsubishi&#x27;, &#x27;Nissan&#x27;, &#x27;Renault&#x27;, &#x27;Sale&#x27;, &#x27;Skoda&#x27;, &#x27;Swift&#x27;,\n",
       "       &#x27;TATA&#x27;, &#x27;Tara&#x27;, &#x27;Tata&#x27;, &#x27;Toyota&#x27;, &#x27;URJENT&#x27;, &#x27;Used&#x27;, &#x27;Volkswagen&#x27;,\n",
       "       &#x27;Volvo&#x27;, &#x27;Well&#x27;, &#x27;Yamaha&#x27;, &#x27;all&#x27;, &#x27;i&#x27;, &#x27;scratch&#x27;, &#x27;sell&#x27;, &#x27;tata&#x27;,\n",
       "       &#x27;urgent&#x27;, &#x27;very&#x27;], dtype=object)]),\n",
       "                                                  [&#x27;rename&#x27;, &#x27;company&#x27;]),\n",
       "                                                 (&#x27;standardscaler&#x27;,\n",
       "                                                  StandardScaler(),\n",
       "                                                  [&#x27;new_kms&#x27;, &#x27;LPG&#x27;,\n",
       "                                                   &#x27;Petrol&#x27;])])),\n",
       "                (&#x27;linearregression&#x27;, LinearRegression())])</pre><b>In a Jupyter environment, please rerun this cell to show the HTML representation or trust the notebook. <br />On GitHub, the HTML representation is unable to render, please try loading this page with nbviewer.org.</b></div><div class=\"sk-container\" hidden><div class=\"sk-item sk-dashed-wrapped\"><div class=\"sk-label-container\"><div class=\"sk-label sk-toggleable\"><input class=\"sk-toggleable__control sk-hidden--visually\" id=\"sk-estimator-id-2\" type=\"checkbox\" ><label for=\"sk-estimator-id-2\" class=\"sk-toggleable__label sk-toggleable__label-arrow\">Pipeline</label><div class=\"sk-toggleable__content\"><pre>Pipeline(steps=[(&#x27;columntransformer&#x27;,\n",
       "                 ColumnTransformer(remainder=&#x27;passthrough&#x27;,\n",
       "                                   transformers=[(&#x27;onehotencoder&#x27;,\n",
       "                                                  OneHotEncoder(categories=[array([&#x27;3 Series&#x27;, &#x27;5 Series&#x27;, &#x27;7 Series&#x27;, &#x27;A3 Cabriolet&#x27;, &#x27;A4 1.8&#x27;,\n",
       "       &#x27;A4 2.0&#x27;, &#x27;A6 2.0&#x27;, &#x27;A8&#x27;, &#x27;Accent&#x27;, &#x27;Accent Executive&#x27;,\n",
       "       &#x27;Accent GLE&#x27;, &#x27;Accent GLX&#x27;, &#x27;Accord&#x27;, &#x27;Amaze&#x27;, &#x27;Amaze 1.2&#x27;,\n",
       "       &#x27;Amaze 1.5&#x27;, &#x27;Aria Pleasure&#x27;, &#x27;Beat&#x27;, &#x27;Beat Diesel&#x27;, &#x27;Beat LS&#x27;,...\n",
       "       &#x27;Jeep&#x27;, &#x27;Land&#x27;, &#x27;MARUTI&#x27;, &#x27;Mahindra&#x27;, &#x27;Maruti&#x27;, &#x27;Mercedes&#x27;, &#x27;Mini&#x27;,\n",
       "       &#x27;Mitsubishi&#x27;, &#x27;Nissan&#x27;, &#x27;Renault&#x27;, &#x27;Sale&#x27;, &#x27;Skoda&#x27;, &#x27;Swift&#x27;,\n",
       "       &#x27;TATA&#x27;, &#x27;Tara&#x27;, &#x27;Tata&#x27;, &#x27;Toyota&#x27;, &#x27;URJENT&#x27;, &#x27;Used&#x27;, &#x27;Volkswagen&#x27;,\n",
       "       &#x27;Volvo&#x27;, &#x27;Well&#x27;, &#x27;Yamaha&#x27;, &#x27;all&#x27;, &#x27;i&#x27;, &#x27;scratch&#x27;, &#x27;sell&#x27;, &#x27;tata&#x27;,\n",
       "       &#x27;urgent&#x27;, &#x27;very&#x27;], dtype=object)]),\n",
       "                                                  [&#x27;rename&#x27;, &#x27;company&#x27;]),\n",
       "                                                 (&#x27;standardscaler&#x27;,\n",
       "                                                  StandardScaler(),\n",
       "                                                  [&#x27;new_kms&#x27;, &#x27;LPG&#x27;,\n",
       "                                                   &#x27;Petrol&#x27;])])),\n",
       "                (&#x27;linearregression&#x27;, LinearRegression())])</pre></div></div></div><div class=\"sk-serial\"><div class=\"sk-item sk-dashed-wrapped\"><div class=\"sk-label-container\"><div class=\"sk-label sk-toggleable\"><input class=\"sk-toggleable__control sk-hidden--visually\" id=\"sk-estimator-id-3\" type=\"checkbox\" ><label for=\"sk-estimator-id-3\" class=\"sk-toggleable__label sk-toggleable__label-arrow\">columntransformer: ColumnTransformer</label><div class=\"sk-toggleable__content\"><pre>ColumnTransformer(remainder=&#x27;passthrough&#x27;,\n",
       "                  transformers=[(&#x27;onehotencoder&#x27;,\n",
       "                                 OneHotEncoder(categories=[array([&#x27;3 Series&#x27;, &#x27;5 Series&#x27;, &#x27;7 Series&#x27;, &#x27;A3 Cabriolet&#x27;, &#x27;A4 1.8&#x27;,\n",
       "       &#x27;A4 2.0&#x27;, &#x27;A6 2.0&#x27;, &#x27;A8&#x27;, &#x27;Accent&#x27;, &#x27;Accent Executive&#x27;,\n",
       "       &#x27;Accent GLE&#x27;, &#x27;Accent GLX&#x27;, &#x27;Accord&#x27;, &#x27;Amaze&#x27;, &#x27;Amaze 1.2&#x27;,\n",
       "       &#x27;Amaze 1.5&#x27;, &#x27;Aria Pleasure&#x27;, &#x27;Beat&#x27;, &#x27;Beat Diesel&#x27;, &#x27;Beat LS&#x27;,\n",
       "       &#x27;Beat LT&#x27;, &#x27;Beat PS&#x27;, &#x27;Benz A&#x27;, &#x27;Benz B&#x27;, &#x27;Be...\n",
       "       &#x27;Jeep&#x27;, &#x27;Land&#x27;, &#x27;MARUTI&#x27;, &#x27;Mahindra&#x27;, &#x27;Maruti&#x27;, &#x27;Mercedes&#x27;, &#x27;Mini&#x27;,\n",
       "       &#x27;Mitsubishi&#x27;, &#x27;Nissan&#x27;, &#x27;Renault&#x27;, &#x27;Sale&#x27;, &#x27;Skoda&#x27;, &#x27;Swift&#x27;,\n",
       "       &#x27;TATA&#x27;, &#x27;Tara&#x27;, &#x27;Tata&#x27;, &#x27;Toyota&#x27;, &#x27;URJENT&#x27;, &#x27;Used&#x27;, &#x27;Volkswagen&#x27;,\n",
       "       &#x27;Volvo&#x27;, &#x27;Well&#x27;, &#x27;Yamaha&#x27;, &#x27;all&#x27;, &#x27;i&#x27;, &#x27;scratch&#x27;, &#x27;sell&#x27;, &#x27;tata&#x27;,\n",
       "       &#x27;urgent&#x27;, &#x27;very&#x27;], dtype=object)]),\n",
       "                                 [&#x27;rename&#x27;, &#x27;company&#x27;]),\n",
       "                                (&#x27;standardscaler&#x27;, StandardScaler(),\n",
       "                                 [&#x27;new_kms&#x27;, &#x27;LPG&#x27;, &#x27;Petrol&#x27;])])</pre></div></div></div><div class=\"sk-parallel\"><div class=\"sk-parallel-item\"><div class=\"sk-item\"><div class=\"sk-label-container\"><div class=\"sk-label sk-toggleable\"><input class=\"sk-toggleable__control sk-hidden--visually\" id=\"sk-estimator-id-4\" type=\"checkbox\" ><label for=\"sk-estimator-id-4\" class=\"sk-toggleable__label sk-toggleable__label-arrow\">onehotencoder</label><div class=\"sk-toggleable__content\"><pre>[&#x27;rename&#x27;, &#x27;company&#x27;]</pre></div></div></div><div class=\"sk-serial\"><div class=\"sk-item\"><div class=\"sk-estimator sk-toggleable\"><input class=\"sk-toggleable__control sk-hidden--visually\" id=\"sk-estimator-id-5\" type=\"checkbox\" ><label for=\"sk-estimator-id-5\" class=\"sk-toggleable__label sk-toggleable__label-arrow\">OneHotEncoder</label><div class=\"sk-toggleable__content\"><pre>OneHotEncoder(categories=[array([&#x27;3 Series&#x27;, &#x27;5 Series&#x27;, &#x27;7 Series&#x27;, &#x27;A3 Cabriolet&#x27;, &#x27;A4 1.8&#x27;,\n",
       "       &#x27;A4 2.0&#x27;, &#x27;A6 2.0&#x27;, &#x27;A8&#x27;, &#x27;Accent&#x27;, &#x27;Accent Executive&#x27;,\n",
       "       &#x27;Accent GLE&#x27;, &#x27;Accent GLX&#x27;, &#x27;Accord&#x27;, &#x27;Amaze&#x27;, &#x27;Amaze 1.2&#x27;,\n",
       "       &#x27;Amaze 1.5&#x27;, &#x27;Aria Pleasure&#x27;, &#x27;Beat&#x27;, &#x27;Beat Diesel&#x27;, &#x27;Beat LS&#x27;,\n",
       "       &#x27;Beat LT&#x27;, &#x27;Beat PS&#x27;, &#x27;Benz A&#x27;, &#x27;Benz B&#x27;, &#x27;Benz C&#x27;, &#x27;Benz GLA&#x27;,\n",
       "       &#x27;Bolero DI&#x27;, &#x27;Bolero Power&#x27;, &#x27;Bolero SLE&#x27;, &#x27;Bolt XM&#x27;, &#x27;Brio&#x27;,\n",
       "       &#x27;Brio...\n",
       "                          array([&#x27;Any&#x27;, &#x27;Audi&#x27;, &#x27;BMW&#x27;, &#x27;Chevrolet&#x27;, &#x27;Commercial&#x27;, &#x27;Datsun&#x27;, &#x27;Fiat&#x27;,\n",
       "       &#x27;Force&#x27;, &#x27;Ford&#x27;, &#x27;Hindustan&#x27;, &#x27;Honda&#x27;, &#x27;Hyundai&#x27;, &#x27;I&#x27;, &#x27;Jaguar&#x27;,\n",
       "       &#x27;Jeep&#x27;, &#x27;Land&#x27;, &#x27;MARUTI&#x27;, &#x27;Mahindra&#x27;, &#x27;Maruti&#x27;, &#x27;Mercedes&#x27;, &#x27;Mini&#x27;,\n",
       "       &#x27;Mitsubishi&#x27;, &#x27;Nissan&#x27;, &#x27;Renault&#x27;, &#x27;Sale&#x27;, &#x27;Skoda&#x27;, &#x27;Swift&#x27;,\n",
       "       &#x27;TATA&#x27;, &#x27;Tara&#x27;, &#x27;Tata&#x27;, &#x27;Toyota&#x27;, &#x27;URJENT&#x27;, &#x27;Used&#x27;, &#x27;Volkswagen&#x27;,\n",
       "       &#x27;Volvo&#x27;, &#x27;Well&#x27;, &#x27;Yamaha&#x27;, &#x27;all&#x27;, &#x27;i&#x27;, &#x27;scratch&#x27;, &#x27;sell&#x27;, &#x27;tata&#x27;,\n",
       "       &#x27;urgent&#x27;, &#x27;very&#x27;], dtype=object)])</pre></div></div></div></div></div></div><div class=\"sk-parallel-item\"><div class=\"sk-item\"><div class=\"sk-label-container\"><div class=\"sk-label sk-toggleable\"><input class=\"sk-toggleable__control sk-hidden--visually\" id=\"sk-estimator-id-6\" type=\"checkbox\" ><label for=\"sk-estimator-id-6\" class=\"sk-toggleable__label sk-toggleable__label-arrow\">standardscaler</label><div class=\"sk-toggleable__content\"><pre>[&#x27;new_kms&#x27;, &#x27;LPG&#x27;, &#x27;Petrol&#x27;]</pre></div></div></div><div class=\"sk-serial\"><div class=\"sk-item\"><div class=\"sk-estimator sk-toggleable\"><input class=\"sk-toggleable__control sk-hidden--visually\" id=\"sk-estimator-id-7\" type=\"checkbox\" ><label for=\"sk-estimator-id-7\" class=\"sk-toggleable__label sk-toggleable__label-arrow\">StandardScaler</label><div class=\"sk-toggleable__content\"><pre>StandardScaler()</pre></div></div></div></div></div></div><div class=\"sk-parallel-item\"><div class=\"sk-item\"><div class=\"sk-label-container\"><div class=\"sk-label sk-toggleable\"><input class=\"sk-toggleable__control sk-hidden--visually\" id=\"sk-estimator-id-8\" type=\"checkbox\" ><label for=\"sk-estimator-id-8\" class=\"sk-toggleable__label sk-toggleable__label-arrow\">remainder</label><div class=\"sk-toggleable__content\"><pre>[]</pre></div></div></div><div class=\"sk-serial\"><div class=\"sk-item\"><div class=\"sk-estimator sk-toggleable\"><input class=\"sk-toggleable__control sk-hidden--visually\" id=\"sk-estimator-id-9\" type=\"checkbox\" ><label for=\"sk-estimator-id-9\" class=\"sk-toggleable__label sk-toggleable__label-arrow\">passthrough</label><div class=\"sk-toggleable__content\"><pre>passthrough</pre></div></div></div></div></div></div></div></div><div class=\"sk-item\"><div class=\"sk-estimator sk-toggleable\"><input class=\"sk-toggleable__control sk-hidden--visually\" id=\"sk-estimator-id-10\" type=\"checkbox\" ><label for=\"sk-estimator-id-10\" class=\"sk-toggleable__label sk-toggleable__label-arrow\">LinearRegression</label><div class=\"sk-toggleable__content\"><pre>LinearRegression()</pre></div></div></div></div></div></div></div>"
      ],
      "text/plain": [
       "Pipeline(steps=[('columntransformer',\n",
       "                 ColumnTransformer(remainder='passthrough',\n",
       "                                   transformers=[('onehotencoder',\n",
       "                                                  OneHotEncoder(categories=[array(['3 Series', '5 Series', '7 Series', 'A3 Cabriolet', 'A4 1.8',\n",
       "       'A4 2.0', 'A6 2.0', 'A8', 'Accent', 'Accent Executive',\n",
       "       'Accent GLE', 'Accent GLX', 'Accord', 'Amaze', 'Amaze 1.2',\n",
       "       'Amaze 1.5', 'Aria Pleasure', 'Beat', 'Beat Diesel', 'Beat LS',...\n",
       "       'Jeep', 'Land', 'MARUTI', 'Mahindra', 'Maruti', 'Mercedes', 'Mini',\n",
       "       'Mitsubishi', 'Nissan', 'Renault', 'Sale', 'Skoda', 'Swift',\n",
       "       'TATA', 'Tara', 'Tata', 'Toyota', 'URJENT', 'Used', 'Volkswagen',\n",
       "       'Volvo', 'Well', 'Yamaha', 'all', 'i', 'scratch', 'sell', 'tata',\n",
       "       'urgent', 'very'], dtype=object)]),\n",
       "                                                  ['rename', 'company']),\n",
       "                                                 ('standardscaler',\n",
       "                                                  StandardScaler(),\n",
       "                                                  ['new_kms', 'LPG',\n",
       "                                                   'Petrol'])])),\n",
       "                ('linearregression', LinearRegression())])"
      ]
     },
     "execution_count": 87,
     "metadata": {},
     "output_type": "execute_result"
    }
   ],
   "source": [
    "pipe.fit(x_train,y_train)"
   ]
  },
  {
   "cell_type": "code",
   "execution_count": 88,
   "id": "1f7c673a-dda4-4062-9674-6a18fd69df1e",
   "metadata": {},
   "outputs": [],
   "source": [
    "y_pred= pipe.predict(x_test)"
   ]
  },
  {
   "cell_type": "code",
   "execution_count": 89,
   "id": "95b0672d-119e-4007-b0f7-c2e12bb017a5",
   "metadata": {},
   "outputs": [
    {
     "data": {
      "text/plain": [
       "0.6567228797053846"
      ]
     },
     "execution_count": 89,
     "metadata": {},
     "output_type": "execute_result"
    }
   ],
   "source": [
    "r2_score(y_test,y_pred)"
   ]
  },
  {
   "cell_type": "code",
   "execution_count": 90,
   "id": "9cea4229-d613-4d2e-bb9d-c15c75b4e519",
   "metadata": {},
   "outputs": [
    {
     "name": "stdout",
     "output_type": "stream",
     "text": [
      "0.637374058856663\n",
      "0.6363415110002568\n",
      "0.6605787438984367\n",
      "0.5744499274715533\n",
      "0.6279582102748814\n",
      "0.5878365102402212\n",
      "0.5954226460459213\n",
      "0.6631465243025872\n",
      "0.6898827916100061\n",
      "0.7022355982434381\n",
      "0.6470367115601234\n",
      "0.7108278700028388\n",
      "0.6473019284728445\n",
      "0.6957537681676915\n",
      "0.6302233842607592\n",
      "0.5732440145174365\n",
      "0.6321582116477016\n",
      "0.7160016169127117\n",
      "0.6286758322013941\n",
      "0.7222617041422879\n"
     ]
    }
   ],
   "source": [
    "for i in range(20):\n",
    "    x_train,x_test,y_train,y_test = train_test_split(x,y,test_size=0.2)\n",
    "    lr = LinearRegression()\n",
    "    pipe = make_pipeline(column_trans,lr)\n",
    "    pipe.fit(x_train,y_train)\n",
    "    y_pred= pipe.predict(x_test)\n",
    "    print(r2_score(y_test,y_pred))\n"
   ]
  },
  {
   "cell_type": "code",
   "execution_count": 91,
   "id": "958f07e2-a217-4312-b5ad-21f3257510cd",
   "metadata": {},
   "outputs": [],
   "source": [
    "scores = []\n",
    "for i in range(1000):\n",
    "    x_train,x_test,y_train,y_test = train_test_split(x,y,test_size=0.2,random_state=i)\n",
    "    lr = LinearRegression()\n",
    "    pipe = make_pipeline(column_trans,lr)\n",
    "    pipe.fit(x_train,y_train)\n",
    "    y_pred= pipe.predict(x_test)\n",
    "    scores.append(r2_score(y_test,y_pred))"
   ]
  },
  {
   "cell_type": "code",
   "execution_count": 92,
   "id": "8fff48a4-fc85-49d8-bd41-3c78136153b3",
   "metadata": {},
   "outputs": [
    {
     "data": {
      "text/plain": [
       "49"
      ]
     },
     "execution_count": 92,
     "metadata": {},
     "output_type": "execute_result"
    }
   ],
   "source": [
    "np.argmax(scores)"
   ]
  },
  {
   "cell_type": "code",
   "execution_count": 93,
   "id": "d57cebe6-912a-4972-a860-ed60aaebe6da",
   "metadata": {},
   "outputs": [
    {
     "data": {
      "text/plain": [
       "0.7803009020513816"
      ]
     },
     "execution_count": 93,
     "metadata": {},
     "output_type": "execute_result"
    }
   ],
   "source": [
    "scores[np.argmax(scores)]"
   ]
  },
  {
   "cell_type": "code",
   "execution_count": 94,
   "id": "09de2a46-fad3-4de7-84b0-46b4561fbc48",
   "metadata": {},
   "outputs": [
    {
     "data": {
      "text/plain": [
       "0.7803009020513816"
      ]
     },
     "execution_count": 94,
     "metadata": {},
     "output_type": "execute_result"
    }
   ],
   "source": [
    "x_train,x_test,y_train,y_test = train_test_split(x,y,test_size=0.2,random_state=np.argmax(scores))\n",
    "lr = LinearRegression()\n",
    "pipe = make_pipeline(column_trans,lr)\n",
    "pipe.fit(x_train,y_train)\n",
    "y_pred= pipe.predict(x_test)\n",
    "r2_score(y_test,y_pred)"
   ]
  },
  {
   "cell_type": "code",
   "execution_count": 95,
   "id": "92c8dea4-707e-43c5-875d-69bc38b554a7",
   "metadata": {},
   "outputs": [],
   "source": [
    "from sklearn.svm import SVR"
   ]
  },
  {
   "cell_type": "code",
   "execution_count": 96,
   "id": "3136a8c8-3cd0-44f5-9387-e480a25995f0",
   "metadata": {},
   "outputs": [],
   "source": [
    "svc = SVR()"
   ]
  },
  {
   "cell_type": "code",
   "execution_count": 97,
   "id": "ba315125-951e-4e3f-a51b-a6b287aaf2b1",
   "metadata": {},
   "outputs": [],
   "source": [
    "pipe2 = make_pipeline(column_trans,svc)"
   ]
  },
  {
   "cell_type": "code",
   "execution_count": 98,
   "id": "980afd18-0397-4b03-90d8-6deb4064d714",
   "metadata": {},
   "outputs": [
    {
     "data": {
      "text/html": [
       "<style>#sk-container-id-3 {color: black;}#sk-container-id-3 pre{padding: 0;}#sk-container-id-3 div.sk-toggleable {background-color: white;}#sk-container-id-3 label.sk-toggleable__label {cursor: pointer;display: block;width: 100%;margin-bottom: 0;padding: 0.3em;box-sizing: border-box;text-align: center;}#sk-container-id-3 label.sk-toggleable__label-arrow:before {content: \"▸\";float: left;margin-right: 0.25em;color: #696969;}#sk-container-id-3 label.sk-toggleable__label-arrow:hover:before {color: black;}#sk-container-id-3 div.sk-estimator:hover label.sk-toggleable__label-arrow:before {color: black;}#sk-container-id-3 div.sk-toggleable__content {max-height: 0;max-width: 0;overflow: hidden;text-align: left;background-color: #f0f8ff;}#sk-container-id-3 div.sk-toggleable__content pre {margin: 0.2em;color: black;border-radius: 0.25em;background-color: #f0f8ff;}#sk-container-id-3 input.sk-toggleable__control:checked~div.sk-toggleable__content {max-height: 200px;max-width: 100%;overflow: auto;}#sk-container-id-3 input.sk-toggleable__control:checked~label.sk-toggleable__label-arrow:before {content: \"▾\";}#sk-container-id-3 div.sk-estimator input.sk-toggleable__control:checked~label.sk-toggleable__label {background-color: #d4ebff;}#sk-container-id-3 div.sk-label input.sk-toggleable__control:checked~label.sk-toggleable__label {background-color: #d4ebff;}#sk-container-id-3 input.sk-hidden--visually {border: 0;clip: rect(1px 1px 1px 1px);clip: rect(1px, 1px, 1px, 1px);height: 1px;margin: -1px;overflow: hidden;padding: 0;position: absolute;width: 1px;}#sk-container-id-3 div.sk-estimator {font-family: monospace;background-color: #f0f8ff;border: 1px dotted black;border-radius: 0.25em;box-sizing: border-box;margin-bottom: 0.5em;}#sk-container-id-3 div.sk-estimator:hover {background-color: #d4ebff;}#sk-container-id-3 div.sk-parallel-item::after {content: \"\";width: 100%;border-bottom: 1px solid gray;flex-grow: 1;}#sk-container-id-3 div.sk-label:hover label.sk-toggleable__label {background-color: #d4ebff;}#sk-container-id-3 div.sk-serial::before {content: \"\";position: absolute;border-left: 1px solid gray;box-sizing: border-box;top: 0;bottom: 0;left: 50%;z-index: 0;}#sk-container-id-3 div.sk-serial {display: flex;flex-direction: column;align-items: center;background-color: white;padding-right: 0.2em;padding-left: 0.2em;position: relative;}#sk-container-id-3 div.sk-item {position: relative;z-index: 1;}#sk-container-id-3 div.sk-parallel {display: flex;align-items: stretch;justify-content: center;background-color: white;position: relative;}#sk-container-id-3 div.sk-item::before, #sk-container-id-3 div.sk-parallel-item::before {content: \"\";position: absolute;border-left: 1px solid gray;box-sizing: border-box;top: 0;bottom: 0;left: 50%;z-index: -1;}#sk-container-id-3 div.sk-parallel-item {display: flex;flex-direction: column;z-index: 1;position: relative;background-color: white;}#sk-container-id-3 div.sk-parallel-item:first-child::after {align-self: flex-end;width: 50%;}#sk-container-id-3 div.sk-parallel-item:last-child::after {align-self: flex-start;width: 50%;}#sk-container-id-3 div.sk-parallel-item:only-child::after {width: 0;}#sk-container-id-3 div.sk-dashed-wrapped {border: 1px dashed gray;margin: 0 0.4em 0.5em 0.4em;box-sizing: border-box;padding-bottom: 0.4em;background-color: white;}#sk-container-id-3 div.sk-label label {font-family: monospace;font-weight: bold;display: inline-block;line-height: 1.2em;}#sk-container-id-3 div.sk-label-container {text-align: center;}#sk-container-id-3 div.sk-container {/* jupyter's `normalize.less` sets `[hidden] { display: none; }` but bootstrap.min.css set `[hidden] { display: none !important; }` so we also need the `!important` here to be able to override the default hidden behavior on the sphinx rendered scikit-learn.org. See: https://github.com/scikit-learn/scikit-learn/issues/21755 */display: inline-block !important;position: relative;}#sk-container-id-3 div.sk-text-repr-fallback {display: none;}</style><div id=\"sk-container-id-3\" class=\"sk-top-container\"><div class=\"sk-text-repr-fallback\"><pre>Pipeline(steps=[(&#x27;columntransformer&#x27;,\n",
       "                 ColumnTransformer(remainder=&#x27;passthrough&#x27;,\n",
       "                                   transformers=[(&#x27;onehotencoder&#x27;,\n",
       "                                                  OneHotEncoder(categories=[array([&#x27;3 Series&#x27;, &#x27;5 Series&#x27;, &#x27;7 Series&#x27;, &#x27;A3 Cabriolet&#x27;, &#x27;A4 1.8&#x27;,\n",
       "       &#x27;A4 2.0&#x27;, &#x27;A6 2.0&#x27;, &#x27;A8&#x27;, &#x27;Accent&#x27;, &#x27;Accent Executive&#x27;,\n",
       "       &#x27;Accent GLE&#x27;, &#x27;Accent GLX&#x27;, &#x27;Accord&#x27;, &#x27;Amaze&#x27;, &#x27;Amaze 1.2&#x27;,\n",
       "       &#x27;Amaze 1.5&#x27;, &#x27;Aria Pleasure&#x27;, &#x27;Beat&#x27;, &#x27;Beat Diesel&#x27;, &#x27;Beat LS&#x27;,...\n",
       "       &#x27;Jeep&#x27;, &#x27;Land&#x27;, &#x27;MARUTI&#x27;, &#x27;Mahindra&#x27;, &#x27;Maruti&#x27;, &#x27;Mercedes&#x27;, &#x27;Mini&#x27;,\n",
       "       &#x27;Mitsubishi&#x27;, &#x27;Nissan&#x27;, &#x27;Renault&#x27;, &#x27;Sale&#x27;, &#x27;Skoda&#x27;, &#x27;Swift&#x27;,\n",
       "       &#x27;TATA&#x27;, &#x27;Tara&#x27;, &#x27;Tata&#x27;, &#x27;Toyota&#x27;, &#x27;URJENT&#x27;, &#x27;Used&#x27;, &#x27;Volkswagen&#x27;,\n",
       "       &#x27;Volvo&#x27;, &#x27;Well&#x27;, &#x27;Yamaha&#x27;, &#x27;all&#x27;, &#x27;i&#x27;, &#x27;scratch&#x27;, &#x27;sell&#x27;, &#x27;tata&#x27;,\n",
       "       &#x27;urgent&#x27;, &#x27;very&#x27;], dtype=object)]),\n",
       "                                                  [&#x27;rename&#x27;, &#x27;company&#x27;]),\n",
       "                                                 (&#x27;standardscaler&#x27;,\n",
       "                                                  StandardScaler(),\n",
       "                                                  [&#x27;new_kms&#x27;, &#x27;LPG&#x27;,\n",
       "                                                   &#x27;Petrol&#x27;])])),\n",
       "                (&#x27;svr&#x27;, SVR())])</pre><b>In a Jupyter environment, please rerun this cell to show the HTML representation or trust the notebook. <br />On GitHub, the HTML representation is unable to render, please try loading this page with nbviewer.org.</b></div><div class=\"sk-container\" hidden><div class=\"sk-item sk-dashed-wrapped\"><div class=\"sk-label-container\"><div class=\"sk-label sk-toggleable\"><input class=\"sk-toggleable__control sk-hidden--visually\" id=\"sk-estimator-id-11\" type=\"checkbox\" ><label for=\"sk-estimator-id-11\" class=\"sk-toggleable__label sk-toggleable__label-arrow\">Pipeline</label><div class=\"sk-toggleable__content\"><pre>Pipeline(steps=[(&#x27;columntransformer&#x27;,\n",
       "                 ColumnTransformer(remainder=&#x27;passthrough&#x27;,\n",
       "                                   transformers=[(&#x27;onehotencoder&#x27;,\n",
       "                                                  OneHotEncoder(categories=[array([&#x27;3 Series&#x27;, &#x27;5 Series&#x27;, &#x27;7 Series&#x27;, &#x27;A3 Cabriolet&#x27;, &#x27;A4 1.8&#x27;,\n",
       "       &#x27;A4 2.0&#x27;, &#x27;A6 2.0&#x27;, &#x27;A8&#x27;, &#x27;Accent&#x27;, &#x27;Accent Executive&#x27;,\n",
       "       &#x27;Accent GLE&#x27;, &#x27;Accent GLX&#x27;, &#x27;Accord&#x27;, &#x27;Amaze&#x27;, &#x27;Amaze 1.2&#x27;,\n",
       "       &#x27;Amaze 1.5&#x27;, &#x27;Aria Pleasure&#x27;, &#x27;Beat&#x27;, &#x27;Beat Diesel&#x27;, &#x27;Beat LS&#x27;,...\n",
       "       &#x27;Jeep&#x27;, &#x27;Land&#x27;, &#x27;MARUTI&#x27;, &#x27;Mahindra&#x27;, &#x27;Maruti&#x27;, &#x27;Mercedes&#x27;, &#x27;Mini&#x27;,\n",
       "       &#x27;Mitsubishi&#x27;, &#x27;Nissan&#x27;, &#x27;Renault&#x27;, &#x27;Sale&#x27;, &#x27;Skoda&#x27;, &#x27;Swift&#x27;,\n",
       "       &#x27;TATA&#x27;, &#x27;Tara&#x27;, &#x27;Tata&#x27;, &#x27;Toyota&#x27;, &#x27;URJENT&#x27;, &#x27;Used&#x27;, &#x27;Volkswagen&#x27;,\n",
       "       &#x27;Volvo&#x27;, &#x27;Well&#x27;, &#x27;Yamaha&#x27;, &#x27;all&#x27;, &#x27;i&#x27;, &#x27;scratch&#x27;, &#x27;sell&#x27;, &#x27;tata&#x27;,\n",
       "       &#x27;urgent&#x27;, &#x27;very&#x27;], dtype=object)]),\n",
       "                                                  [&#x27;rename&#x27;, &#x27;company&#x27;]),\n",
       "                                                 (&#x27;standardscaler&#x27;,\n",
       "                                                  StandardScaler(),\n",
       "                                                  [&#x27;new_kms&#x27;, &#x27;LPG&#x27;,\n",
       "                                                   &#x27;Petrol&#x27;])])),\n",
       "                (&#x27;svr&#x27;, SVR())])</pre></div></div></div><div class=\"sk-serial\"><div class=\"sk-item sk-dashed-wrapped\"><div class=\"sk-label-container\"><div class=\"sk-label sk-toggleable\"><input class=\"sk-toggleable__control sk-hidden--visually\" id=\"sk-estimator-id-12\" type=\"checkbox\" ><label for=\"sk-estimator-id-12\" class=\"sk-toggleable__label sk-toggleable__label-arrow\">columntransformer: ColumnTransformer</label><div class=\"sk-toggleable__content\"><pre>ColumnTransformer(remainder=&#x27;passthrough&#x27;,\n",
       "                  transformers=[(&#x27;onehotencoder&#x27;,\n",
       "                                 OneHotEncoder(categories=[array([&#x27;3 Series&#x27;, &#x27;5 Series&#x27;, &#x27;7 Series&#x27;, &#x27;A3 Cabriolet&#x27;, &#x27;A4 1.8&#x27;,\n",
       "       &#x27;A4 2.0&#x27;, &#x27;A6 2.0&#x27;, &#x27;A8&#x27;, &#x27;Accent&#x27;, &#x27;Accent Executive&#x27;,\n",
       "       &#x27;Accent GLE&#x27;, &#x27;Accent GLX&#x27;, &#x27;Accord&#x27;, &#x27;Amaze&#x27;, &#x27;Amaze 1.2&#x27;,\n",
       "       &#x27;Amaze 1.5&#x27;, &#x27;Aria Pleasure&#x27;, &#x27;Beat&#x27;, &#x27;Beat Diesel&#x27;, &#x27;Beat LS&#x27;,\n",
       "       &#x27;Beat LT&#x27;, &#x27;Beat PS&#x27;, &#x27;Benz A&#x27;, &#x27;Benz B&#x27;, &#x27;Be...\n",
       "       &#x27;Jeep&#x27;, &#x27;Land&#x27;, &#x27;MARUTI&#x27;, &#x27;Mahindra&#x27;, &#x27;Maruti&#x27;, &#x27;Mercedes&#x27;, &#x27;Mini&#x27;,\n",
       "       &#x27;Mitsubishi&#x27;, &#x27;Nissan&#x27;, &#x27;Renault&#x27;, &#x27;Sale&#x27;, &#x27;Skoda&#x27;, &#x27;Swift&#x27;,\n",
       "       &#x27;TATA&#x27;, &#x27;Tara&#x27;, &#x27;Tata&#x27;, &#x27;Toyota&#x27;, &#x27;URJENT&#x27;, &#x27;Used&#x27;, &#x27;Volkswagen&#x27;,\n",
       "       &#x27;Volvo&#x27;, &#x27;Well&#x27;, &#x27;Yamaha&#x27;, &#x27;all&#x27;, &#x27;i&#x27;, &#x27;scratch&#x27;, &#x27;sell&#x27;, &#x27;tata&#x27;,\n",
       "       &#x27;urgent&#x27;, &#x27;very&#x27;], dtype=object)]),\n",
       "                                 [&#x27;rename&#x27;, &#x27;company&#x27;]),\n",
       "                                (&#x27;standardscaler&#x27;, StandardScaler(),\n",
       "                                 [&#x27;new_kms&#x27;, &#x27;LPG&#x27;, &#x27;Petrol&#x27;])])</pre></div></div></div><div class=\"sk-parallel\"><div class=\"sk-parallel-item\"><div class=\"sk-item\"><div class=\"sk-label-container\"><div class=\"sk-label sk-toggleable\"><input class=\"sk-toggleable__control sk-hidden--visually\" id=\"sk-estimator-id-13\" type=\"checkbox\" ><label for=\"sk-estimator-id-13\" class=\"sk-toggleable__label sk-toggleable__label-arrow\">onehotencoder</label><div class=\"sk-toggleable__content\"><pre>[&#x27;rename&#x27;, &#x27;company&#x27;]</pre></div></div></div><div class=\"sk-serial\"><div class=\"sk-item\"><div class=\"sk-estimator sk-toggleable\"><input class=\"sk-toggleable__control sk-hidden--visually\" id=\"sk-estimator-id-14\" type=\"checkbox\" ><label for=\"sk-estimator-id-14\" class=\"sk-toggleable__label sk-toggleable__label-arrow\">OneHotEncoder</label><div class=\"sk-toggleable__content\"><pre>OneHotEncoder(categories=[array([&#x27;3 Series&#x27;, &#x27;5 Series&#x27;, &#x27;7 Series&#x27;, &#x27;A3 Cabriolet&#x27;, &#x27;A4 1.8&#x27;,\n",
       "       &#x27;A4 2.0&#x27;, &#x27;A6 2.0&#x27;, &#x27;A8&#x27;, &#x27;Accent&#x27;, &#x27;Accent Executive&#x27;,\n",
       "       &#x27;Accent GLE&#x27;, &#x27;Accent GLX&#x27;, &#x27;Accord&#x27;, &#x27;Amaze&#x27;, &#x27;Amaze 1.2&#x27;,\n",
       "       &#x27;Amaze 1.5&#x27;, &#x27;Aria Pleasure&#x27;, &#x27;Beat&#x27;, &#x27;Beat Diesel&#x27;, &#x27;Beat LS&#x27;,\n",
       "       &#x27;Beat LT&#x27;, &#x27;Beat PS&#x27;, &#x27;Benz A&#x27;, &#x27;Benz B&#x27;, &#x27;Benz C&#x27;, &#x27;Benz GLA&#x27;,\n",
       "       &#x27;Bolero DI&#x27;, &#x27;Bolero Power&#x27;, &#x27;Bolero SLE&#x27;, &#x27;Bolt XM&#x27;, &#x27;Brio&#x27;,\n",
       "       &#x27;Brio...\n",
       "                          array([&#x27;Any&#x27;, &#x27;Audi&#x27;, &#x27;BMW&#x27;, &#x27;Chevrolet&#x27;, &#x27;Commercial&#x27;, &#x27;Datsun&#x27;, &#x27;Fiat&#x27;,\n",
       "       &#x27;Force&#x27;, &#x27;Ford&#x27;, &#x27;Hindustan&#x27;, &#x27;Honda&#x27;, &#x27;Hyundai&#x27;, &#x27;I&#x27;, &#x27;Jaguar&#x27;,\n",
       "       &#x27;Jeep&#x27;, &#x27;Land&#x27;, &#x27;MARUTI&#x27;, &#x27;Mahindra&#x27;, &#x27;Maruti&#x27;, &#x27;Mercedes&#x27;, &#x27;Mini&#x27;,\n",
       "       &#x27;Mitsubishi&#x27;, &#x27;Nissan&#x27;, &#x27;Renault&#x27;, &#x27;Sale&#x27;, &#x27;Skoda&#x27;, &#x27;Swift&#x27;,\n",
       "       &#x27;TATA&#x27;, &#x27;Tara&#x27;, &#x27;Tata&#x27;, &#x27;Toyota&#x27;, &#x27;URJENT&#x27;, &#x27;Used&#x27;, &#x27;Volkswagen&#x27;,\n",
       "       &#x27;Volvo&#x27;, &#x27;Well&#x27;, &#x27;Yamaha&#x27;, &#x27;all&#x27;, &#x27;i&#x27;, &#x27;scratch&#x27;, &#x27;sell&#x27;, &#x27;tata&#x27;,\n",
       "       &#x27;urgent&#x27;, &#x27;very&#x27;], dtype=object)])</pre></div></div></div></div></div></div><div class=\"sk-parallel-item\"><div class=\"sk-item\"><div class=\"sk-label-container\"><div class=\"sk-label sk-toggleable\"><input class=\"sk-toggleable__control sk-hidden--visually\" id=\"sk-estimator-id-15\" type=\"checkbox\" ><label for=\"sk-estimator-id-15\" class=\"sk-toggleable__label sk-toggleable__label-arrow\">standardscaler</label><div class=\"sk-toggleable__content\"><pre>[&#x27;new_kms&#x27;, &#x27;LPG&#x27;, &#x27;Petrol&#x27;]</pre></div></div></div><div class=\"sk-serial\"><div class=\"sk-item\"><div class=\"sk-estimator sk-toggleable\"><input class=\"sk-toggleable__control sk-hidden--visually\" id=\"sk-estimator-id-16\" type=\"checkbox\" ><label for=\"sk-estimator-id-16\" class=\"sk-toggleable__label sk-toggleable__label-arrow\">StandardScaler</label><div class=\"sk-toggleable__content\"><pre>StandardScaler()</pre></div></div></div></div></div></div><div class=\"sk-parallel-item\"><div class=\"sk-item\"><div class=\"sk-label-container\"><div class=\"sk-label sk-toggleable\"><input class=\"sk-toggleable__control sk-hidden--visually\" id=\"sk-estimator-id-17\" type=\"checkbox\" ><label for=\"sk-estimator-id-17\" class=\"sk-toggleable__label sk-toggleable__label-arrow\">remainder</label><div class=\"sk-toggleable__content\"><pre>[]</pre></div></div></div><div class=\"sk-serial\"><div class=\"sk-item\"><div class=\"sk-estimator sk-toggleable\"><input class=\"sk-toggleable__control sk-hidden--visually\" id=\"sk-estimator-id-18\" type=\"checkbox\" ><label for=\"sk-estimator-id-18\" class=\"sk-toggleable__label sk-toggleable__label-arrow\">passthrough</label><div class=\"sk-toggleable__content\"><pre>passthrough</pre></div></div></div></div></div></div></div></div><div class=\"sk-item\"><div class=\"sk-estimator sk-toggleable\"><input class=\"sk-toggleable__control sk-hidden--visually\" id=\"sk-estimator-id-19\" type=\"checkbox\" ><label for=\"sk-estimator-id-19\" class=\"sk-toggleable__label sk-toggleable__label-arrow\">SVR</label><div class=\"sk-toggleable__content\"><pre>SVR()</pre></div></div></div></div></div></div></div>"
      ],
      "text/plain": [
       "Pipeline(steps=[('columntransformer',\n",
       "                 ColumnTransformer(remainder='passthrough',\n",
       "                                   transformers=[('onehotencoder',\n",
       "                                                  OneHotEncoder(categories=[array(['3 Series', '5 Series', '7 Series', 'A3 Cabriolet', 'A4 1.8',\n",
       "       'A4 2.0', 'A6 2.0', 'A8', 'Accent', 'Accent Executive',\n",
       "       'Accent GLE', 'Accent GLX', 'Accord', 'Amaze', 'Amaze 1.2',\n",
       "       'Amaze 1.5', 'Aria Pleasure', 'Beat', 'Beat Diesel', 'Beat LS',...\n",
       "       'Jeep', 'Land', 'MARUTI', 'Mahindra', 'Maruti', 'Mercedes', 'Mini',\n",
       "       'Mitsubishi', 'Nissan', 'Renault', 'Sale', 'Skoda', 'Swift',\n",
       "       'TATA', 'Tara', 'Tata', 'Toyota', 'URJENT', 'Used', 'Volkswagen',\n",
       "       'Volvo', 'Well', 'Yamaha', 'all', 'i', 'scratch', 'sell', 'tata',\n",
       "       'urgent', 'very'], dtype=object)]),\n",
       "                                                  ['rename', 'company']),\n",
       "                                                 ('standardscaler',\n",
       "                                                  StandardScaler(),\n",
       "                                                  ['new_kms', 'LPG',\n",
       "                                                   'Petrol'])])),\n",
       "                ('svr', SVR())])"
      ]
     },
     "execution_count": 98,
     "metadata": {},
     "output_type": "execute_result"
    }
   ],
   "source": [
    "pipe2.fit(x_train,y_train)"
   ]
  },
  {
   "cell_type": "code",
   "execution_count": 99,
   "id": "548cb632-fc3c-4630-8925-21eb4cacc2d8",
   "metadata": {},
   "outputs": [],
   "source": [
    "y_pred2 = pipe2.predict(x_test)"
   ]
  },
  {
   "cell_type": "code",
   "execution_count": 100,
   "id": "9bc5a65e-7b7b-4f3b-ac5f-a1f8aeb0435c",
   "metadata": {},
   "outputs": [
    {
     "data": {
      "text/plain": [
       "0.700987254521142"
      ]
     },
     "execution_count": 100,
     "metadata": {},
     "output_type": "execute_result"
    }
   ],
   "source": [
    "r2_score(y_test,y_pred2)"
   ]
  },
  {
   "cell_type": "code",
   "execution_count": 101,
   "id": "eebf4be1-b66f-436d-b7e5-0d40c6c41fa0",
   "metadata": {},
   "outputs": [],
   "source": [
    "score = []\n",
    "for i in range(1000):\n",
    "    x_train,x_test,y_train,y_test = train_test_split(x,y,test_size=0.2,random_state=i)\n",
    "    svc = SVR()\n",
    "    pipe2 = make_pipeline(column_trans,svc)\n",
    "    pipe2.fit(x_train,y_train)\n",
    "    y_pred2= pipe2.predict(x_test)\n",
    "    score.append(r2_score(y_test,y_pred2))"
   ]
  },
  {
   "cell_type": "code",
   "execution_count": 102,
   "id": "e3295cee-607f-4ee3-a977-0775905d64ef",
   "metadata": {},
   "outputs": [
    {
     "data": {
      "text/plain": [
       "840"
      ]
     },
     "execution_count": 102,
     "metadata": {},
     "output_type": "execute_result"
    }
   ],
   "source": [
    "np.argmax(score)"
   ]
  },
  {
   "cell_type": "code",
   "execution_count": 103,
   "id": "0b65c0db-7b9e-4373-a5e7-ccdd91e77b7b",
   "metadata": {},
   "outputs": [
    {
     "data": {
      "text/plain": [
       "0.7460361784669514"
      ]
     },
     "execution_count": 103,
     "metadata": {},
     "output_type": "execute_result"
    }
   ],
   "source": [
    "score[np.argmax(score)]"
   ]
  },
  {
   "cell_type": "code",
   "execution_count": 105,
   "id": "76f07b58-3922-4c6c-bdab-9f68304f84d7",
   "metadata": {},
   "outputs": [],
   "source": [
    "from sklearn.ensemble import RandomForestRegressor"
   ]
  },
  {
   "cell_type": "code",
   "execution_count": 106,
   "id": "092e8dd1-b392-4894-a841-178abf6eab4e",
   "metadata": {},
   "outputs": [],
   "source": [
    "rfr= RandomForestRegressor()"
   ]
  },
  {
   "cell_type": "code",
   "execution_count": 107,
   "id": "b8cc2715-f949-4e70-b475-6b3c2c0ead01",
   "metadata": {},
   "outputs": [],
   "source": [
    "pipe3 = make_pipeline(column_trans,rfr)"
   ]
  },
  {
   "cell_type": "code",
   "execution_count": 108,
   "id": "85ef437f-3a62-4b46-84ad-e39d2644e5b9",
   "metadata": {},
   "outputs": [
    {
     "data": {
      "text/html": [
       "<style>#sk-container-id-4 {color: black;}#sk-container-id-4 pre{padding: 0;}#sk-container-id-4 div.sk-toggleable {background-color: white;}#sk-container-id-4 label.sk-toggleable__label {cursor: pointer;display: block;width: 100%;margin-bottom: 0;padding: 0.3em;box-sizing: border-box;text-align: center;}#sk-container-id-4 label.sk-toggleable__label-arrow:before {content: \"▸\";float: left;margin-right: 0.25em;color: #696969;}#sk-container-id-4 label.sk-toggleable__label-arrow:hover:before {color: black;}#sk-container-id-4 div.sk-estimator:hover label.sk-toggleable__label-arrow:before {color: black;}#sk-container-id-4 div.sk-toggleable__content {max-height: 0;max-width: 0;overflow: hidden;text-align: left;background-color: #f0f8ff;}#sk-container-id-4 div.sk-toggleable__content pre {margin: 0.2em;color: black;border-radius: 0.25em;background-color: #f0f8ff;}#sk-container-id-4 input.sk-toggleable__control:checked~div.sk-toggleable__content {max-height: 200px;max-width: 100%;overflow: auto;}#sk-container-id-4 input.sk-toggleable__control:checked~label.sk-toggleable__label-arrow:before {content: \"▾\";}#sk-container-id-4 div.sk-estimator input.sk-toggleable__control:checked~label.sk-toggleable__label {background-color: #d4ebff;}#sk-container-id-4 div.sk-label input.sk-toggleable__control:checked~label.sk-toggleable__label {background-color: #d4ebff;}#sk-container-id-4 input.sk-hidden--visually {border: 0;clip: rect(1px 1px 1px 1px);clip: rect(1px, 1px, 1px, 1px);height: 1px;margin: -1px;overflow: hidden;padding: 0;position: absolute;width: 1px;}#sk-container-id-4 div.sk-estimator {font-family: monospace;background-color: #f0f8ff;border: 1px dotted black;border-radius: 0.25em;box-sizing: border-box;margin-bottom: 0.5em;}#sk-container-id-4 div.sk-estimator:hover {background-color: #d4ebff;}#sk-container-id-4 div.sk-parallel-item::after {content: \"\";width: 100%;border-bottom: 1px solid gray;flex-grow: 1;}#sk-container-id-4 div.sk-label:hover label.sk-toggleable__label {background-color: #d4ebff;}#sk-container-id-4 div.sk-serial::before {content: \"\";position: absolute;border-left: 1px solid gray;box-sizing: border-box;top: 0;bottom: 0;left: 50%;z-index: 0;}#sk-container-id-4 div.sk-serial {display: flex;flex-direction: column;align-items: center;background-color: white;padding-right: 0.2em;padding-left: 0.2em;position: relative;}#sk-container-id-4 div.sk-item {position: relative;z-index: 1;}#sk-container-id-4 div.sk-parallel {display: flex;align-items: stretch;justify-content: center;background-color: white;position: relative;}#sk-container-id-4 div.sk-item::before, #sk-container-id-4 div.sk-parallel-item::before {content: \"\";position: absolute;border-left: 1px solid gray;box-sizing: border-box;top: 0;bottom: 0;left: 50%;z-index: -1;}#sk-container-id-4 div.sk-parallel-item {display: flex;flex-direction: column;z-index: 1;position: relative;background-color: white;}#sk-container-id-4 div.sk-parallel-item:first-child::after {align-self: flex-end;width: 50%;}#sk-container-id-4 div.sk-parallel-item:last-child::after {align-self: flex-start;width: 50%;}#sk-container-id-4 div.sk-parallel-item:only-child::after {width: 0;}#sk-container-id-4 div.sk-dashed-wrapped {border: 1px dashed gray;margin: 0 0.4em 0.5em 0.4em;box-sizing: border-box;padding-bottom: 0.4em;background-color: white;}#sk-container-id-4 div.sk-label label {font-family: monospace;font-weight: bold;display: inline-block;line-height: 1.2em;}#sk-container-id-4 div.sk-label-container {text-align: center;}#sk-container-id-4 div.sk-container {/* jupyter's `normalize.less` sets `[hidden] { display: none; }` but bootstrap.min.css set `[hidden] { display: none !important; }` so we also need the `!important` here to be able to override the default hidden behavior on the sphinx rendered scikit-learn.org. See: https://github.com/scikit-learn/scikit-learn/issues/21755 */display: inline-block !important;position: relative;}#sk-container-id-4 div.sk-text-repr-fallback {display: none;}</style><div id=\"sk-container-id-4\" class=\"sk-top-container\"><div class=\"sk-text-repr-fallback\"><pre>Pipeline(steps=[(&#x27;columntransformer&#x27;,\n",
       "                 ColumnTransformer(remainder=&#x27;passthrough&#x27;,\n",
       "                                   transformers=[(&#x27;onehotencoder&#x27;,\n",
       "                                                  OneHotEncoder(categories=[array([&#x27;3 Series&#x27;, &#x27;5 Series&#x27;, &#x27;7 Series&#x27;, &#x27;A3 Cabriolet&#x27;, &#x27;A4 1.8&#x27;,\n",
       "       &#x27;A4 2.0&#x27;, &#x27;A6 2.0&#x27;, &#x27;A8&#x27;, &#x27;Accent&#x27;, &#x27;Accent Executive&#x27;,\n",
       "       &#x27;Accent GLE&#x27;, &#x27;Accent GLX&#x27;, &#x27;Accord&#x27;, &#x27;Amaze&#x27;, &#x27;Amaze 1.2&#x27;,\n",
       "       &#x27;Amaze 1.5&#x27;, &#x27;Aria Pleasure&#x27;, &#x27;Beat&#x27;, &#x27;Beat Diesel&#x27;, &#x27;Beat LS&#x27;,...\n",
       "       &#x27;Jeep&#x27;, &#x27;Land&#x27;, &#x27;MARUTI&#x27;, &#x27;Mahindra&#x27;, &#x27;Maruti&#x27;, &#x27;Mercedes&#x27;, &#x27;Mini&#x27;,\n",
       "       &#x27;Mitsubishi&#x27;, &#x27;Nissan&#x27;, &#x27;Renault&#x27;, &#x27;Sale&#x27;, &#x27;Skoda&#x27;, &#x27;Swift&#x27;,\n",
       "       &#x27;TATA&#x27;, &#x27;Tara&#x27;, &#x27;Tata&#x27;, &#x27;Toyota&#x27;, &#x27;URJENT&#x27;, &#x27;Used&#x27;, &#x27;Volkswagen&#x27;,\n",
       "       &#x27;Volvo&#x27;, &#x27;Well&#x27;, &#x27;Yamaha&#x27;, &#x27;all&#x27;, &#x27;i&#x27;, &#x27;scratch&#x27;, &#x27;sell&#x27;, &#x27;tata&#x27;,\n",
       "       &#x27;urgent&#x27;, &#x27;very&#x27;], dtype=object)]),\n",
       "                                                  [&#x27;rename&#x27;, &#x27;company&#x27;]),\n",
       "                                                 (&#x27;standardscaler&#x27;,\n",
       "                                                  StandardScaler(),\n",
       "                                                  [&#x27;new_kms&#x27;, &#x27;LPG&#x27;,\n",
       "                                                   &#x27;Petrol&#x27;])])),\n",
       "                (&#x27;randomforestregressor&#x27;, RandomForestRegressor())])</pre><b>In a Jupyter environment, please rerun this cell to show the HTML representation or trust the notebook. <br />On GitHub, the HTML representation is unable to render, please try loading this page with nbviewer.org.</b></div><div class=\"sk-container\" hidden><div class=\"sk-item sk-dashed-wrapped\"><div class=\"sk-label-container\"><div class=\"sk-label sk-toggleable\"><input class=\"sk-toggleable__control sk-hidden--visually\" id=\"sk-estimator-id-20\" type=\"checkbox\" ><label for=\"sk-estimator-id-20\" class=\"sk-toggleable__label sk-toggleable__label-arrow\">Pipeline</label><div class=\"sk-toggleable__content\"><pre>Pipeline(steps=[(&#x27;columntransformer&#x27;,\n",
       "                 ColumnTransformer(remainder=&#x27;passthrough&#x27;,\n",
       "                                   transformers=[(&#x27;onehotencoder&#x27;,\n",
       "                                                  OneHotEncoder(categories=[array([&#x27;3 Series&#x27;, &#x27;5 Series&#x27;, &#x27;7 Series&#x27;, &#x27;A3 Cabriolet&#x27;, &#x27;A4 1.8&#x27;,\n",
       "       &#x27;A4 2.0&#x27;, &#x27;A6 2.0&#x27;, &#x27;A8&#x27;, &#x27;Accent&#x27;, &#x27;Accent Executive&#x27;,\n",
       "       &#x27;Accent GLE&#x27;, &#x27;Accent GLX&#x27;, &#x27;Accord&#x27;, &#x27;Amaze&#x27;, &#x27;Amaze 1.2&#x27;,\n",
       "       &#x27;Amaze 1.5&#x27;, &#x27;Aria Pleasure&#x27;, &#x27;Beat&#x27;, &#x27;Beat Diesel&#x27;, &#x27;Beat LS&#x27;,...\n",
       "       &#x27;Jeep&#x27;, &#x27;Land&#x27;, &#x27;MARUTI&#x27;, &#x27;Mahindra&#x27;, &#x27;Maruti&#x27;, &#x27;Mercedes&#x27;, &#x27;Mini&#x27;,\n",
       "       &#x27;Mitsubishi&#x27;, &#x27;Nissan&#x27;, &#x27;Renault&#x27;, &#x27;Sale&#x27;, &#x27;Skoda&#x27;, &#x27;Swift&#x27;,\n",
       "       &#x27;TATA&#x27;, &#x27;Tara&#x27;, &#x27;Tata&#x27;, &#x27;Toyota&#x27;, &#x27;URJENT&#x27;, &#x27;Used&#x27;, &#x27;Volkswagen&#x27;,\n",
       "       &#x27;Volvo&#x27;, &#x27;Well&#x27;, &#x27;Yamaha&#x27;, &#x27;all&#x27;, &#x27;i&#x27;, &#x27;scratch&#x27;, &#x27;sell&#x27;, &#x27;tata&#x27;,\n",
       "       &#x27;urgent&#x27;, &#x27;very&#x27;], dtype=object)]),\n",
       "                                                  [&#x27;rename&#x27;, &#x27;company&#x27;]),\n",
       "                                                 (&#x27;standardscaler&#x27;,\n",
       "                                                  StandardScaler(),\n",
       "                                                  [&#x27;new_kms&#x27;, &#x27;LPG&#x27;,\n",
       "                                                   &#x27;Petrol&#x27;])])),\n",
       "                (&#x27;randomforestregressor&#x27;, RandomForestRegressor())])</pre></div></div></div><div class=\"sk-serial\"><div class=\"sk-item sk-dashed-wrapped\"><div class=\"sk-label-container\"><div class=\"sk-label sk-toggleable\"><input class=\"sk-toggleable__control sk-hidden--visually\" id=\"sk-estimator-id-21\" type=\"checkbox\" ><label for=\"sk-estimator-id-21\" class=\"sk-toggleable__label sk-toggleable__label-arrow\">columntransformer: ColumnTransformer</label><div class=\"sk-toggleable__content\"><pre>ColumnTransformer(remainder=&#x27;passthrough&#x27;,\n",
       "                  transformers=[(&#x27;onehotencoder&#x27;,\n",
       "                                 OneHotEncoder(categories=[array([&#x27;3 Series&#x27;, &#x27;5 Series&#x27;, &#x27;7 Series&#x27;, &#x27;A3 Cabriolet&#x27;, &#x27;A4 1.8&#x27;,\n",
       "       &#x27;A4 2.0&#x27;, &#x27;A6 2.0&#x27;, &#x27;A8&#x27;, &#x27;Accent&#x27;, &#x27;Accent Executive&#x27;,\n",
       "       &#x27;Accent GLE&#x27;, &#x27;Accent GLX&#x27;, &#x27;Accord&#x27;, &#x27;Amaze&#x27;, &#x27;Amaze 1.2&#x27;,\n",
       "       &#x27;Amaze 1.5&#x27;, &#x27;Aria Pleasure&#x27;, &#x27;Beat&#x27;, &#x27;Beat Diesel&#x27;, &#x27;Beat LS&#x27;,\n",
       "       &#x27;Beat LT&#x27;, &#x27;Beat PS&#x27;, &#x27;Benz A&#x27;, &#x27;Benz B&#x27;, &#x27;Be...\n",
       "       &#x27;Jeep&#x27;, &#x27;Land&#x27;, &#x27;MARUTI&#x27;, &#x27;Mahindra&#x27;, &#x27;Maruti&#x27;, &#x27;Mercedes&#x27;, &#x27;Mini&#x27;,\n",
       "       &#x27;Mitsubishi&#x27;, &#x27;Nissan&#x27;, &#x27;Renault&#x27;, &#x27;Sale&#x27;, &#x27;Skoda&#x27;, &#x27;Swift&#x27;,\n",
       "       &#x27;TATA&#x27;, &#x27;Tara&#x27;, &#x27;Tata&#x27;, &#x27;Toyota&#x27;, &#x27;URJENT&#x27;, &#x27;Used&#x27;, &#x27;Volkswagen&#x27;,\n",
       "       &#x27;Volvo&#x27;, &#x27;Well&#x27;, &#x27;Yamaha&#x27;, &#x27;all&#x27;, &#x27;i&#x27;, &#x27;scratch&#x27;, &#x27;sell&#x27;, &#x27;tata&#x27;,\n",
       "       &#x27;urgent&#x27;, &#x27;very&#x27;], dtype=object)]),\n",
       "                                 [&#x27;rename&#x27;, &#x27;company&#x27;]),\n",
       "                                (&#x27;standardscaler&#x27;, StandardScaler(),\n",
       "                                 [&#x27;new_kms&#x27;, &#x27;LPG&#x27;, &#x27;Petrol&#x27;])])</pre></div></div></div><div class=\"sk-parallel\"><div class=\"sk-parallel-item\"><div class=\"sk-item\"><div class=\"sk-label-container\"><div class=\"sk-label sk-toggleable\"><input class=\"sk-toggleable__control sk-hidden--visually\" id=\"sk-estimator-id-22\" type=\"checkbox\" ><label for=\"sk-estimator-id-22\" class=\"sk-toggleable__label sk-toggleable__label-arrow\">onehotencoder</label><div class=\"sk-toggleable__content\"><pre>[&#x27;rename&#x27;, &#x27;company&#x27;]</pre></div></div></div><div class=\"sk-serial\"><div class=\"sk-item\"><div class=\"sk-estimator sk-toggleable\"><input class=\"sk-toggleable__control sk-hidden--visually\" id=\"sk-estimator-id-23\" type=\"checkbox\" ><label for=\"sk-estimator-id-23\" class=\"sk-toggleable__label sk-toggleable__label-arrow\">OneHotEncoder</label><div class=\"sk-toggleable__content\"><pre>OneHotEncoder(categories=[array([&#x27;3 Series&#x27;, &#x27;5 Series&#x27;, &#x27;7 Series&#x27;, &#x27;A3 Cabriolet&#x27;, &#x27;A4 1.8&#x27;,\n",
       "       &#x27;A4 2.0&#x27;, &#x27;A6 2.0&#x27;, &#x27;A8&#x27;, &#x27;Accent&#x27;, &#x27;Accent Executive&#x27;,\n",
       "       &#x27;Accent GLE&#x27;, &#x27;Accent GLX&#x27;, &#x27;Accord&#x27;, &#x27;Amaze&#x27;, &#x27;Amaze 1.2&#x27;,\n",
       "       &#x27;Amaze 1.5&#x27;, &#x27;Aria Pleasure&#x27;, &#x27;Beat&#x27;, &#x27;Beat Diesel&#x27;, &#x27;Beat LS&#x27;,\n",
       "       &#x27;Beat LT&#x27;, &#x27;Beat PS&#x27;, &#x27;Benz A&#x27;, &#x27;Benz B&#x27;, &#x27;Benz C&#x27;, &#x27;Benz GLA&#x27;,\n",
       "       &#x27;Bolero DI&#x27;, &#x27;Bolero Power&#x27;, &#x27;Bolero SLE&#x27;, &#x27;Bolt XM&#x27;, &#x27;Brio&#x27;,\n",
       "       &#x27;Brio...\n",
       "                          array([&#x27;Any&#x27;, &#x27;Audi&#x27;, &#x27;BMW&#x27;, &#x27;Chevrolet&#x27;, &#x27;Commercial&#x27;, &#x27;Datsun&#x27;, &#x27;Fiat&#x27;,\n",
       "       &#x27;Force&#x27;, &#x27;Ford&#x27;, &#x27;Hindustan&#x27;, &#x27;Honda&#x27;, &#x27;Hyundai&#x27;, &#x27;I&#x27;, &#x27;Jaguar&#x27;,\n",
       "       &#x27;Jeep&#x27;, &#x27;Land&#x27;, &#x27;MARUTI&#x27;, &#x27;Mahindra&#x27;, &#x27;Maruti&#x27;, &#x27;Mercedes&#x27;, &#x27;Mini&#x27;,\n",
       "       &#x27;Mitsubishi&#x27;, &#x27;Nissan&#x27;, &#x27;Renault&#x27;, &#x27;Sale&#x27;, &#x27;Skoda&#x27;, &#x27;Swift&#x27;,\n",
       "       &#x27;TATA&#x27;, &#x27;Tara&#x27;, &#x27;Tata&#x27;, &#x27;Toyota&#x27;, &#x27;URJENT&#x27;, &#x27;Used&#x27;, &#x27;Volkswagen&#x27;,\n",
       "       &#x27;Volvo&#x27;, &#x27;Well&#x27;, &#x27;Yamaha&#x27;, &#x27;all&#x27;, &#x27;i&#x27;, &#x27;scratch&#x27;, &#x27;sell&#x27;, &#x27;tata&#x27;,\n",
       "       &#x27;urgent&#x27;, &#x27;very&#x27;], dtype=object)])</pre></div></div></div></div></div></div><div class=\"sk-parallel-item\"><div class=\"sk-item\"><div class=\"sk-label-container\"><div class=\"sk-label sk-toggleable\"><input class=\"sk-toggleable__control sk-hidden--visually\" id=\"sk-estimator-id-24\" type=\"checkbox\" ><label for=\"sk-estimator-id-24\" class=\"sk-toggleable__label sk-toggleable__label-arrow\">standardscaler</label><div class=\"sk-toggleable__content\"><pre>[&#x27;new_kms&#x27;, &#x27;LPG&#x27;, &#x27;Petrol&#x27;]</pre></div></div></div><div class=\"sk-serial\"><div class=\"sk-item\"><div class=\"sk-estimator sk-toggleable\"><input class=\"sk-toggleable__control sk-hidden--visually\" id=\"sk-estimator-id-25\" type=\"checkbox\" ><label for=\"sk-estimator-id-25\" class=\"sk-toggleable__label sk-toggleable__label-arrow\">StandardScaler</label><div class=\"sk-toggleable__content\"><pre>StandardScaler()</pre></div></div></div></div></div></div><div class=\"sk-parallel-item\"><div class=\"sk-item\"><div class=\"sk-label-container\"><div class=\"sk-label sk-toggleable\"><input class=\"sk-toggleable__control sk-hidden--visually\" id=\"sk-estimator-id-26\" type=\"checkbox\" ><label for=\"sk-estimator-id-26\" class=\"sk-toggleable__label sk-toggleable__label-arrow\">remainder</label><div class=\"sk-toggleable__content\"><pre>[]</pre></div></div></div><div class=\"sk-serial\"><div class=\"sk-item\"><div class=\"sk-estimator sk-toggleable\"><input class=\"sk-toggleable__control sk-hidden--visually\" id=\"sk-estimator-id-27\" type=\"checkbox\" ><label for=\"sk-estimator-id-27\" class=\"sk-toggleable__label sk-toggleable__label-arrow\">passthrough</label><div class=\"sk-toggleable__content\"><pre>passthrough</pre></div></div></div></div></div></div></div></div><div class=\"sk-item\"><div class=\"sk-estimator sk-toggleable\"><input class=\"sk-toggleable__control sk-hidden--visually\" id=\"sk-estimator-id-28\" type=\"checkbox\" ><label for=\"sk-estimator-id-28\" class=\"sk-toggleable__label sk-toggleable__label-arrow\">RandomForestRegressor</label><div class=\"sk-toggleable__content\"><pre>RandomForestRegressor()</pre></div></div></div></div></div></div></div>"
      ],
      "text/plain": [
       "Pipeline(steps=[('columntransformer',\n",
       "                 ColumnTransformer(remainder='passthrough',\n",
       "                                   transformers=[('onehotencoder',\n",
       "                                                  OneHotEncoder(categories=[array(['3 Series', '5 Series', '7 Series', 'A3 Cabriolet', 'A4 1.8',\n",
       "       'A4 2.0', 'A6 2.0', 'A8', 'Accent', 'Accent Executive',\n",
       "       'Accent GLE', 'Accent GLX', 'Accord', 'Amaze', 'Amaze 1.2',\n",
       "       'Amaze 1.5', 'Aria Pleasure', 'Beat', 'Beat Diesel', 'Beat LS',...\n",
       "       'Jeep', 'Land', 'MARUTI', 'Mahindra', 'Maruti', 'Mercedes', 'Mini',\n",
       "       'Mitsubishi', 'Nissan', 'Renault', 'Sale', 'Skoda', 'Swift',\n",
       "       'TATA', 'Tara', 'Tata', 'Toyota', 'URJENT', 'Used', 'Volkswagen',\n",
       "       'Volvo', 'Well', 'Yamaha', 'all', 'i', 'scratch', 'sell', 'tata',\n",
       "       'urgent', 'very'], dtype=object)]),\n",
       "                                                  ['rename', 'company']),\n",
       "                                                 ('standardscaler',\n",
       "                                                  StandardScaler(),\n",
       "                                                  ['new_kms', 'LPG',\n",
       "                                                   'Petrol'])])),\n",
       "                ('randomforestregressor', RandomForestRegressor())])"
      ]
     },
     "execution_count": 108,
     "metadata": {},
     "output_type": "execute_result"
    }
   ],
   "source": [
    "pipe3.fit(x_train,y_train)"
   ]
  },
  {
   "cell_type": "code",
   "execution_count": 109,
   "id": "9a2a41b7-913f-4c9b-b30f-5f068fd37605",
   "metadata": {},
   "outputs": [],
   "source": [
    "y_pred3 = pipe3.predict(x_test)"
   ]
  },
  {
   "cell_type": "code",
   "execution_count": 110,
   "id": "aefdb597-7ba1-4922-9074-5ced9adf79c6",
   "metadata": {},
   "outputs": [
    {
     "data": {
      "text/plain": [
       "0.5317828661747305"
      ]
     },
     "execution_count": 110,
     "metadata": {},
     "output_type": "execute_result"
    }
   ],
   "source": [
    "r2_score(y_test,y_pred3)"
   ]
  },
  {
   "cell_type": "code",
   "execution_count": null,
   "id": "9e995e91-49d3-4040-b981-9fa36c5b7228",
   "metadata": {},
   "outputs": [],
   "source": []
  }
 ],
 "metadata": {
  "kernelspec": {
   "display_name": "Python 3 (ipykernel)",
   "language": "python",
   "name": "python3"
  },
  "language_info": {
   "codemirror_mode": {
    "name": "ipython",
    "version": 3
   },
   "file_extension": ".py",
   "mimetype": "text/x-python",
   "name": "python",
   "nbconvert_exporter": "python",
   "pygments_lexer": "ipython3",
   "version": "3.11.4"
  }
 },
 "nbformat": 4,
 "nbformat_minor": 5
}
